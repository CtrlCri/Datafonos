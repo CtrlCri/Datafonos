{
 "cells": [
  {
   "cell_type": "markdown",
   "metadata": {},
   "source": [
    "# Datafonos\n",
    "\n",
    "Uno de nuestros clientes, **CLAP**, maneja Datafonos y se encarga de procesar\n",
    "pagos. **SIMETRIK** es su aliado para comparar las transacciones que se\n",
    "reportan a través de sus dispositivos contra las\n",
    "transacciones que se registran en las liquidaciones\n",
    "bancarias (**BANSUR**).  \n",
    "Cada vez que el cliente **CLAP** reporta un pago con su\n",
    "datáfono envía un registro a su base de datos y a la base\n",
    "de datos del adquirente **BANSUR**. Sin embargo, dada la\n",
    "gran cantidad de pagos que se realizan a diario, **CLAP** no puede llevar un\n",
    "control efectivo de todas las transacciones realizadas y necesitan verificar\n",
    "que todas las transacciones registradas en su base de datos también se\n",
    "encuentren en la base de **BANSUR**."
   ]
  },
  {
   "cell_type": "markdown",
   "metadata": {},
   "source": [
    "*IMPORTANTE:* Una transacción regular se evidencia en la base de datos\n",
    "como un **PAGO**; se debe tener en cuenta que un *mismo ID* puede también\n",
    "tomar estado de **Cancelación**, **Chargeback** u **Otros casos**.  \n",
    "Simetrik considera una partida como conciliable toda aquella transacción\n",
    "cuyo último estado en la base de datos ordenada por fecha y hora sea\n",
    "PAGADA.  \n",
    "Para esto, **SIMETRIK** comparará para cada transacción campos únicos entre\n",
    "las dos entidades buscando encontrar parejas que sean exactamente\n",
    "iguales bajo las siguientes condiciones:  \n",
    "1. Que tengan el mismo **ID**.\n",
    "2. Que tenga los mismos 6 primeros dígitos de la tarjeta.\n",
    "3. Que tengan los mismos 4 últimos dígitos de la tarjeta.\n",
    "4. Que el valor pagado en la transacción sea igual o que su diferencia\n",
    "esté en el rango de más o menos 0.99 pesos.\n",
    "5. Que tengan la misma fecha de transacción."
   ]
  },
  {
   "cell_type": "markdown",
   "metadata": {},
   "source": [
    "###  Importo las bibliotecas necesarias:"
   ]
  },
  {
   "cell_type": "code",
   "execution_count": 329,
   "metadata": {},
   "outputs": [],
   "source": [
    "import pandas as pd\n",
    "from sqlalchemy import create_engine, Column, Integer, String, Float, DateTime\n",
    "from sqlalchemy.ext.declarative import declarative_base\n",
    "from sqlalchemy.orm import sessionmaker"
   ]
  },
  {
   "cell_type": "markdown",
   "metadata": {},
   "source": [
    "### Cargo los datos de los archivos CSV en DataFrames de Pandas:"
   ]
  },
  {
   "cell_type": "code",
   "execution_count": 318,
   "metadata": {},
   "outputs": [],
   "source": [
    "clap_df = pd.read_csv('data/clap.csv')\n",
    "bansur_df = pd.read_csv('data/bansur.csv')"
   ]
  },
  {
   "cell_type": "code",
   "execution_count": 319,
   "metadata": {},
   "outputs": [
    {
     "name": "stdout",
     "output_type": "stream",
     "text": [
      "INICIO6_TARJETA          float64\n",
      "FINAL4_TARJETA             int64\n",
      "TIPO_TRX                  object\n",
      "MONTO                    float64\n",
      "FECHA_TRANSACCION         object\n",
      "CODIGO_AUTORIZACION       object\n",
      "ID_BANCO                 float64\n",
      "FECHA_RECEPCION_BANCO     object\n",
      "dtype: object\n"
     ]
    }
   ],
   "source": [
    "print(clap_df.dtypes)"
   ]
  },
  {
   "cell_type": "code",
   "execution_count": 320,
   "metadata": {},
   "outputs": [
    {
     "name": "stdout",
     "output_type": "stream",
     "text": [
      "TARJETA                  int64\n",
      "TIPO_TRX                object\n",
      "MONTO                  float64\n",
      "FECHA_TRANSACCION        int64\n",
      "CODIGO_AUTORIZACION     object\n",
      "ID_ADQUIRIENTE           int64\n",
      "FECHA_RECEPCION         object\n",
      "dtype: object\n"
     ]
    }
   ],
   "source": [
    "print(bansur_df.dtypes)"
   ]
  },
  {
   "cell_type": "code",
   "execution_count": 321,
   "metadata": {},
   "outputs": [
    {
     "name": "stdout",
     "output_type": "stream",
     "text": [
      "INICIO6_TARJETA              6\n",
      "FINAL4_TARJETA               0\n",
      "TIPO_TRX                     0\n",
      "MONTO                        0\n",
      "FECHA_TRANSACCION            0\n",
      "CODIGO_AUTORIZACION      12679\n",
      "ID_BANCO                    16\n",
      "FECHA_RECEPCION_BANCO        0\n",
      "dtype: int64\n",
      "TARJETA                0\n",
      "TIPO_TRX               0\n",
      "MONTO                  0\n",
      "FECHA_TRANSACCION      0\n",
      "CODIGO_AUTORIZACION    0\n",
      "ID_ADQUIRIENTE         0\n",
      "FECHA_RECEPCION        0\n",
      "dtype: int64\n"
     ]
    }
   ],
   "source": [
    "# Revisando datos faltantes\n",
    "print(clap_df.isna().sum())\n",
    "print(bansur_df.isna().sum())"
   ]
  },
  {
   "cell_type": "code",
   "execution_count": 322,
   "metadata": {},
   "outputs": [],
   "source": [
    "# Rellenar columnas \n",
    "clap_df['CODIGO_AUTORIZACION'] = clap_df['CODIGO_AUTORIZACION'].fillna(0)\n",
    "clap_df['INICIO6_TARJETA'] = clap_df['INICIO6_TARJETA'].fillna(0)\n",
    "clap_df['ID_BANCO'] = clap_df['ID_BANCO'].fillna(0)"
   ]
  },
  {
   "cell_type": "code",
   "execution_count": 326,
   "metadata": {},
   "outputs": [],
   "source": [
    "# Convertir 'ID_BANCO' a int64\n",
    "clap_df['ID_BANCO'] = clap_df['ID_BANCO'].astype('int64') "
   ]
  },
  {
   "cell_type": "code",
   "execution_count": 323,
   "metadata": {},
   "outputs": [],
   "source": [
    "# Asegurarme que las fechas esten en el mismo formato\n",
    "\n",
    "# Convertir la columna 'FECHA_TRANSACCION' a objetos datetime.date\n",
    "bansur_df['FECHA_TRANSACCION'] = bansur_df['FECHA_TRANSACCION'].astype(str)\n",
    "bansur_df['FECHA_TRANSACCION'] = pd.to_datetime(bansur_df['FECHA_TRANSACCION'])\n",
    "bansur_df['FECHA_TRANSACCION'] = bansur_df['FECHA_TRANSACCION'].dt.date\n",
    "\n",
    "# Convertir la columna 'FECHA_RECEPCION' a objetos datetime.date\n",
    "bansur_df['FECHA_RECEPCION'] = pd.to_datetime(bansur_df['FECHA_RECEPCION']).dt.date\n",
    "\n",
    "# Convertir la columna 'FECHA_RECEPCION_BANCO' a objetos datetime.date\n",
    "clap_df['FECHA_RECEPCION_BANCO'] = pd.to_datetime(clap_df['FECHA_RECEPCION_BANCO']).dt.date\n",
    "\n",
    "# Convertir la columna 'FECHA_TRANSACCION' a objetos datetime.date\n",
    "clap_df['FECHA_TRANSACCION'] = pd.to_datetime(clap_df['FECHA_TRANSACCION']).dt.date\n"
   ]
  },
  {
   "cell_type": "code",
   "execution_count": 324,
   "metadata": {},
   "outputs": [],
   "source": [
    "# Ordeno los registros para poder trabajar en el orden cronológico correcto\n",
    "clap_df = clap_df.sort_values(by='FECHA_TRANSACCION')\n",
    "bansur_df = bansur_df.sort_values(by='FECHA_TRANSACCION')"
   ]
  },
  {
   "cell_type": "code",
   "execution_count": 327,
   "metadata": {},
   "outputs": [
    {
     "name": "stdout",
     "output_type": "stream",
     "text": [
      "        INICIO6_TARJETA  FINAL4_TARJETA   TIPO_TRX    MONTO FECHA_TRANSACCION  \\\n",
      "0              443715.0             190  CANCELADA  21944.0        2020-11-01   \n",
      "109028         442753.0            2659     PAGADA     31.0        2020-11-01   \n",
      "109029         905158.0             278     PAGADA     35.0        2020-11-01   \n",
      "109030         998516.0            6919     PAGADA    231.0        2020-11-01   \n",
      "109031         438907.0            8349     PAGADA     90.0        2020-11-01   \n",
      "\n",
      "       CODIGO_AUTORIZACION      ID_BANCO FECHA_RECEPCION_BANCO  \n",
      "0                   136719   47100185686            2020-11-05  \n",
      "109028              060126  160306336072            2020-11-02  \n",
      "109029              096329  832092699244            2020-11-02  \n",
      "109030              080694  839451917579            2020-11-02  \n",
      "109031              697577  862853928650            2020-11-02  \n"
     ]
    }
   ],
   "source": [
    "print(clap_df.head())"
   ]
  },
  {
   "cell_type": "code",
   "execution_count": 328,
   "metadata": {},
   "outputs": [
    {
     "name": "stdout",
     "output_type": "stream",
     "text": [
      "          TARJETA TIPO_TRX  MONTO FECHA_TRANSACCION CODIGO_AUTORIZACION  \\\n",
      "0      9540150300     PAGO   44.0        2020-11-01              272012   \n",
      "88272  9540159834     PAGO  384.0        2020-11-01              235583   \n",
      "88271  9540159834     PAGO  304.0        2020-11-01              987379   \n",
      "88270  9540159831     PAGO  451.0        2020-11-01              095554   \n",
      "88269  9540159830     PAGO  190.0        2020-11-01              866583   \n",
      "\n",
      "       ID_ADQUIRIENTE FECHA_RECEPCION  \n",
      "0        320720237226      2020-11-03  \n",
      "88272    828295617069      2020-11-03  \n",
      "88271    335823176959      2020-11-03  \n",
      "88270    873463833342      2020-11-03  \n",
      "88269    188703426158      2020-11-03  \n"
     ]
    }
   ],
   "source": [
    "print(bansur_df.head())"
   ]
  },
  {
   "cell_type": "markdown",
   "metadata": {},
   "source": [
    "###  Defino la conexión a la base de datos y creamos una sesión:"
   ]
  },
  {
   "cell_type": "code",
   "execution_count": 331,
   "metadata": {},
   "outputs": [],
   "source": [
    "# Parámetros de la conexión a la base de datos\n",
    "db_params = {\n",
    "    'user': 'postgres',\n",
    "    'password': 'Jmqr3st0',\n",
    "    'host': 'localhost',\n",
    "    'port': '5432',\n",
    "    'database': 'db'\n",
    "}\n",
    "\n",
    "conn_str = \"postgresql://{user}:{password}@{host}:{port}/{database}\".format(**db_params)\n",
    "engine = create_engine(conn_str)\n",
    "\n",
    "# Se crea una sesión\n",
    "Session = sessionmaker(bind=engine)\n",
    "session = Session()"
   ]
  },
  {
   "cell_type": "markdown",
   "metadata": {},
   "source": [
    "###  Defino la estructura de las tablas utilizando SQLAlchemy ORM:"
   ]
  },
  {
   "cell_type": "code",
   "execution_count": 333,
   "metadata": {},
   "outputs": [
    {
     "name": "stderr",
     "output_type": "stream",
     "text": [
      "C:\\Users\\CtrlCri\\AppData\\Local\\Temp\\ipykernel_9272\\3609720198.py:1: MovedIn20Warning: The ``declarative_base()`` function is now available as sqlalchemy.orm.declarative_base(). (deprecated since: 2.0) (Background on SQLAlchemy 2.0 at: https://sqlalche.me/e/b8d9)\n",
      "  Base = declarative_base()\n"
     ]
    }
   ],
   "source": [
    "\n",
    "Base = declarative_base()\n",
    "\n",
    "class Clap(Base):\n",
    "    __tablename__ = 'clap'\n",
    "\n",
    "    id = Column(Integer, primary_key=True)\n",
    "    inicio6_tarjeta = Column(Integer)\n",
    "    final4_tarjeta = Column(Integer)\n",
    "    tipo_trx = Column(String)\n",
    "    monto = Column(Float)\n",
    "    fecha_transaccion = Column(DateTime)\n",
    "    codigo_autorizacion = Column(String)\n",
    "    id_banco = Column(Integer)\n",
    "    fecha_recepcion_banco = Column(DateTime)\n",
    "\n",
    "class Bansur(Base):\n",
    "    __tablename__ = 'bansur'\n",
    "\n",
    "    id = Column(Integer, primary_key=True)\n",
    "    tarjeta = Column(String)\n",
    "    tipo_trx = Column(String)\n",
    "    monto = Column(Float)\n",
    "    fecha_transaccion = Column(DateTime)\n",
    "    codigo_autorizacion = Column(String)\n",
    "    id_adquiriente = Column(Integer)\n",
    "    fecha_recepcion = Column(DateTime)\n"
   ]
  },
  {
   "cell_type": "markdown",
   "metadata": {},
   "source": [
    "### Creo las tablas en la base de datos:"
   ]
  },
  {
   "cell_type": "code",
   "execution_count": 334,
   "metadata": {},
   "outputs": [],
   "source": [
    "Base.metadata.create_all(engine)"
   ]
  },
  {
   "cell_type": "markdown",
   "metadata": {},
   "source": [
    "### Retomando las condiciones:\n",
    "1. Que tengan el mismo **ID**.\n",
    "2. Que tenga los mismos 6 primeros dígitos de la tarjeta.\n",
    "3. Que tengan los mismos 4 últimos dígitos de la tarjeta.\n",
    "4. Que el valor pagado en la transacción sea igual o que su diferencia\n",
    "esté en el rango de más o menos 0.99 pesos.\n",
    "5. Que tengan la misma fecha de transacción."
   ]
  }
 ],
 "metadata": {
  "kernelspec": {
   "display_name": "venv",
   "language": "python",
   "name": "python3"
  },
  "language_info": {
   "codemirror_mode": {
    "name": "ipython",
    "version": 3
   },
   "file_extension": ".py",
   "mimetype": "text/x-python",
   "name": "python",
   "nbconvert_exporter": "python",
   "pygments_lexer": "ipython3",
   "version": "3.11.4"
  },
  "orig_nbformat": 4
 },
 "nbformat": 4,
 "nbformat_minor": 2
}
