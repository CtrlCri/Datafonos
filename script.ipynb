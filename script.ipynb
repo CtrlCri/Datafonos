{
 "cells": [
  {
   "cell_type": "markdown",
   "metadata": {},
   "source": [
    "# Datafonos\n",
    "\n",
    "Uno de nuestros clientes, **CLAP**, maneja Datafonos y se encarga de procesar\n",
    "pagos. **SIMETRIK** es su aliado para comparar las transacciones que se\n",
    "reportan a través de sus dispositivos contra las\n",
    "transacciones que se registran en las liquidaciones\n",
    "bancarias (**BANSUR**).  \n",
    "Cada vez que el cliente **CLAP** reporta un pago con su\n",
    "datáfono envía un registro a su base de datos y a la base\n",
    "de datos del adquirente **BANSUR**. Sin embargo, dada la\n",
    "gran cantidad de pagos que se realizan a diario, **CLAP** no puede llevar un\n",
    "control efectivo de todas las transacciones realizadas y necesitan verificar\n",
    "que todas las transacciones registradas en su base de datos también se\n",
    "encuentren en la base de **BANSUR**."
   ]
  },
  {
   "cell_type": "markdown",
   "metadata": {},
   "source": [
    "*IMPORTANTE:* Una transacción regular se evidencia en la base de datos\n",
    "como un **PAGO**; se debe tener en cuenta que un *mismo ID* puede también\n",
    "tomar estado de **Cancelación**, **Chargeback** u **Otros casos**.  \n",
    "Simetrik considera una partida como conciliable toda aquella transacción\n",
    "cuyo último estado en la base de datos ordenada por fecha y hora sea\n",
    "PAGADA.  \n",
    "Para esto, **SIMETRIK** comparará para cada transacción campos únicos entre\n",
    "las dos entidades buscando encontrar parejas que sean exactamente\n",
    "iguales bajo las siguientes condiciones:  \n",
    "1. Que tengan el mismo **ID**.\n",
    "2. Que tenga los mismos 6 primeros dígitos de la tarjeta.\n",
    "3. Que tengan los mismos 4 últimos dígitos de la tarjeta.\n",
    "4. Que el valor pagado en la transacción sea igual o que su diferencia\n",
    "esté en el rango de más o menos 0.99 pesos.\n",
    "5. Que tengan la misma fecha de transacción."
   ]
  },
  {
   "cell_type": "markdown",
   "metadata": {},
   "source": [
    "###  Importo las bibliotecas necesarias:"
   ]
  },
  {
   "cell_type": "code",
   "execution_count": 1,
   "metadata": {},
   "outputs": [],
   "source": [
    "import pandas as pd\n",
    "import matplotlib.pyplot as plt\n",
    "import seaborn as sns"
   ]
  },
  {
   "cell_type": "markdown",
   "metadata": {},
   "source": [
    "### Cargo los datos de los archivos CSV en DataFrames de Pandas:"
   ]
  },
  {
   "cell_type": "code",
   "execution_count": 2,
   "metadata": {},
   "outputs": [],
   "source": [
    "clap_df = pd.read_csv('data/clap.csv')\n",
    "bansur_df = pd.read_csv('data/bansur.csv')"
   ]
  },
  {
   "cell_type": "code",
   "execution_count": 3,
   "metadata": {},
   "outputs": [
    {
     "name": "stdout",
     "output_type": "stream",
     "text": [
      "INICIO6_TARJETA          float64\n",
      "FINAL4_TARJETA             int64\n",
      "TIPO_TRX                  object\n",
      "MONTO                    float64\n",
      "FECHA_TRANSACCION         object\n",
      "CODIGO_AUTORIZACION       object\n",
      "ID_BANCO                 float64\n",
      "FECHA_RECEPCION_BANCO     object\n",
      "dtype: object\n"
     ]
    }
   ],
   "source": [
    "print(clap_df.dtypes)"
   ]
  },
  {
   "cell_type": "code",
   "execution_count": 4,
   "metadata": {},
   "outputs": [
    {
     "name": "stdout",
     "output_type": "stream",
     "text": [
      "TARJETA                  int64\n",
      "TIPO_TRX                object\n",
      "MONTO                  float64\n",
      "FECHA_TRANSACCION        int64\n",
      "CODIGO_AUTORIZACION     object\n",
      "ID_ADQUIRIENTE           int64\n",
      "FECHA_RECEPCION         object\n",
      "dtype: object\n"
     ]
    }
   ],
   "source": [
    "print(bansur_df.dtypes)"
   ]
  },
  {
   "cell_type": "code",
   "execution_count": 5,
   "metadata": {},
   "outputs": [
    {
     "name": "stdout",
     "output_type": "stream",
     "text": [
      "INICIO6_TARJETA              6\n",
      "FINAL4_TARJETA               0\n",
      "TIPO_TRX                     0\n",
      "MONTO                        0\n",
      "FECHA_TRANSACCION            0\n",
      "CODIGO_AUTORIZACION      12679\n",
      "ID_BANCO                    16\n",
      "FECHA_RECEPCION_BANCO        0\n",
      "dtype: int64\n",
      "TARJETA                0\n",
      "TIPO_TRX               0\n",
      "MONTO                  0\n",
      "FECHA_TRANSACCION      0\n",
      "CODIGO_AUTORIZACION    0\n",
      "ID_ADQUIRIENTE         0\n",
      "FECHA_RECEPCION        0\n",
      "dtype: int64\n"
     ]
    }
   ],
   "source": [
    "# Revisando datos faltantes\n",
    "print(clap_df.isna().sum())\n",
    "print(bansur_df.isna().sum())"
   ]
  },
  {
   "cell_type": "code",
   "execution_count": 6,
   "metadata": {},
   "outputs": [],
   "source": [
    "# Rellenar columnas \n",
    "clap_df['CODIGO_AUTORIZACION'] = clap_df['CODIGO_AUTORIZACION'].fillna(0)\n",
    "clap_df['INICIO6_TARJETA'] = clap_df['INICIO6_TARJETA'].fillna(0)\n",
    "clap_df['ID_BANCO'] = clap_df['ID_BANCO'].fillna(0)"
   ]
  },
  {
   "cell_type": "code",
   "execution_count": 7,
   "metadata": {},
   "outputs": [],
   "source": [
    "# Asegurarme que las fechas esten en el mismo formato\n",
    "\n",
    "# Convertir la columna 'FECHA_TRANSACCION' a objetos datetime.date\n",
    "bansur_df['FECHA_TRANSACCION'] = bansur_df['FECHA_TRANSACCION'].astype(str)\n",
    "bansur_df['FECHA_TRANSACCION'] = pd.to_datetime(bansur_df['FECHA_TRANSACCION'])\n",
    "bansur_df['FECHA_TRANSACCION'] = bansur_df['FECHA_TRANSACCION'].dt.date\n",
    "\n",
    "# Convertir la columna 'FECHA_RECEPCION' a objetos datetime.date\n",
    "bansur_df['FECHA_RECEPCION'] = pd.to_datetime(bansur_df['FECHA_RECEPCION']).dt.date\n",
    "\n",
    "# Convertir la columna 'FECHA_RECEPCION_BANCO' a objetos datetime.date\n",
    "clap_df['FECHA_RECEPCION_BANCO'] = pd.to_datetime(clap_df['FECHA_RECEPCION_BANCO']).dt.date\n",
    "\n",
    "# Convertir la columna 'FECHA_TRANSACCION' a objetos datetime.date\n",
    "clap_df['FECHA_TRANSACCION'] = pd.to_datetime(clap_df['FECHA_TRANSACCION']).dt.date\n"
   ]
  },
  {
   "cell_type": "markdown",
   "metadata": {},
   "source": [
    "### Conocer el monto y la cantidad de las transacciones que SIMETRIK considera como conciliables para la base de CLAP"
   ]
  },
  {
   "cell_type": "code",
   "execution_count": 8,
   "metadata": {},
   "outputs": [],
   "source": [
    "# Filtrar los registros donde TIPO_TRX es igual a \"PAGADA\"\n",
    "conciliables_clap_df = clap_df[clap_df['TIPO_TRX'] == 'PAGADA']"
   ]
  },
  {
   "cell_type": "code",
   "execution_count": 9,
   "metadata": {},
   "outputs": [],
   "source": [
    "# Filtrar los registros donde TIPO_TRX es igual a \"PAGADA\"\n",
    "conciliables_bansur_df = bansur_df[bansur_df['TIPO_TRX'] == 'PAGO']"
   ]
  },
  {
   "cell_type": "code",
   "execution_count": 10,
   "metadata": {},
   "outputs": [
    {
     "name": "stdout",
     "output_type": "stream",
     "text": [
      "Monto total de transacciones conciliables en CLAP: 61050819.40999999\n",
      "Cantidad de transacciones conciliables en CLAP: 147331\n"
     ]
    }
   ],
   "source": [
    "# Calcular el monto total de transacciones conciliables\n",
    "monto_total_conciliable_clap = conciliables_clap_df['MONTO'].sum()\n",
    "\n",
    "# Calcular la cantidad de transacciones conciliables\n",
    "cantidad_transacciones_conciliables_clap = len(conciliables_clap_df)\n",
    "\n",
    "print(f\"Monto total de transacciones conciliables en CLAP: {monto_total_conciliable_clap}\")\n",
    "print(f\"Cantidad de transacciones conciliables en CLAP: {cantidad_transacciones_conciliables_clap}\")"
   ]
  },
  {
   "cell_type": "markdown",
   "metadata": {},
   "source": [
    "### Monto y la cantidad de las transacciones que SIMETRIK considera como conciliables para la base de BANSUR\n"
   ]
  },
  {
   "cell_type": "code",
   "execution_count": 11,
   "metadata": {},
   "outputs": [
    {
     "name": "stdout",
     "output_type": "stream",
     "text": [
      "Monto total de transacciones conciliables en BANSUR: 54053911.94\n",
      "Cantidad de transacciones conciliables en BANSUR: 132338\n"
     ]
    }
   ],
   "source": [
    "# Calcular el monto total de transacciones conciliables\n",
    "monto_total_conciliable_bansur = conciliables_bansur_df['MONTO'].sum()\n",
    "\n",
    "# Calcular la cantidad de transacciones conciliables\n",
    "cantidad_transacciones_conciliables_bansur = len(conciliables_bansur_df)\n",
    "\n",
    "print(f\"Monto total de transacciones conciliables en BANSUR: {monto_total_conciliable_bansur}\")\n",
    "print(f\"Cantidad de transacciones conciliables en BANSUR: {cantidad_transacciones_conciliables_bansur}\")"
   ]
  },
  {
   "cell_type": "markdown",
   "metadata": {},
   "source": [
    "### ¿Cómo se comparan las cifras de los puntos anteriores respecto de las cifras totales en las fuentes desde un punto de vista del negocio?"
   ]
  },
  {
   "cell_type": "markdown",
   "metadata": {},
   "source": [
    "### Gráficamente"
   ]
  },
  {
   "cell_type": "code",
   "execution_count": 12,
   "metadata": {},
   "outputs": [
    {
     "data": {
      "image/png": "[encoded data removed]",
      "text/plain": [
       "<Figure size 1200x600 with 2 Axes>"
      ]
     },
     "metadata": {},
     "output_type": "display_data"
    }
   ],
   "source": [
    "# Cálculos para CLAP\n",
    "total_transacciones_clap = len(clap_df)\n",
    "porcentaje_conciliables_clap = (cantidad_transacciones_conciliables_clap / total_transacciones_clap) * 100\n",
    "\n",
    "# Cálculos para BANSUR\n",
    "total_transacciones_bansur = len(bansur_df)\n",
    "porcentaje_conciliables_bansur = (cantidad_transacciones_conciliables_bansur / total_transacciones_bansur) * 100\n",
    "\n",
    "\n",
    "# Crear una figura con dos subplots\n",
    "fig, axes = plt.subplots(1, 2, figsize=(12, 6))\n",
    "\n",
    "# Graficar el porcentaje de transacciones conciliables en CLAP\n",
    "sns.barplot(x=['Conciliables', 'No Conciliables'], y=[porcentaje_conciliables_clap, 100 - porcentaje_conciliables_clap], ax=axes[0])\n",
    "axes[0].set_title('Porcentaje de Transacciones Conciliables en CLAP')\n",
    "axes[0].set_ylabel('Porcentaje')\n",
    "\n",
    "# Graficar el porcentaje de transacciones conciliables en BANSUR\n",
    "sns.barplot(x=['Conciliables', 'No Conciliables'], y=[porcentaje_conciliables_bansur, 100 - porcentaje_conciliables_bansur], ax=axes[1])\n",
    "axes[1].set_title('Porcentaje de Transacciones Conciliables en BANSUR')\n",
    "axes[1].set_ylabel('Porcentaje')\n",
    "\n",
    "plt.tight_layout()\n",
    "plt.show()"
   ]
  },
  {
   "cell_type": "code",
   "execution_count": 38,
   "metadata": {},
   "outputs": [
    {
     "name": "stdout",
     "output_type": "stream",
     "text": [
      "Total transacciones en CLAP: 163549\n",
      "Total transacciones en BANSUR: 132396\n",
      "Cantidad transacciones conciliables en CLAP: 147331\n",
      "Cantidad transacciones conciliables en BANSUR: 132338\n",
      "Porcentaje de transacciones conciliables en CLAP: 90.08%\n",
      "Porcentaje de transacciones conciliables en BANSUR: 99.96%\n"
     ]
    }
   ],
   "source": [
    "print(f\"Total transacciones en CLAP: {total_transacciones_clap}\")\n",
    "print(f\"Total transacciones en BANSUR: {total_transacciones_bansur}\")\n",
    "\n",
    "print(f\"Cantidad transacciones conciliables en CLAP: {cantidad_transacciones_conciliables_clap}\")\n",
    "print(f\"Cantidad transacciones conciliables en BANSUR: {cantidad_transacciones_conciliables_bansur}\")\n",
    "\n",
    "print(f\"Porcentaje de transacciones conciliables en CLAP: {porcentaje_conciliables_clap:.2f}%\")\n",
    "print(f\"Porcentaje de transacciones conciliables en BANSUR: {porcentaje_conciliables_bansur:.2f}%\")"
   ]
  },
  {
   "cell_type": "markdown",
   "metadata": {},
   "source": [
    "Desde un punto de vista del negocio, al comparar las cifras de los puntos anteriores con las cifras totales en las fuentes, podemos obtener información valiosa sobre el proceso de conciliación entre CLAP y BANSUR. Es importante resaltar que una transacción regular en las bases de datos se refleja como un PAGO, considerando también la posibilidad de que un mismo ID pueda tener diferentes estados como Cancelación, Chargeback u Otros casos.\n",
    "\n",
    "En el análisis realizado, hemos identificado que:\n",
    "\n",
    "En la base de CLAP, el 90.08% de las transacciones son consideradas como conciliables, es decir, cumplen con las condiciones de comparación establecidas. Esto significa que la mayoría de las transacciones registradas por CLAP se ajustan a las condiciones requeridas para considerarse correctamente conciliadas con BANSUR.\n",
    "\n",
    "Por otro lado, en la base de BANSUR, el 99.96% de las transacciones son consideradas como conciliables. Esto indica un alto grado de conciliación en BANSUR, donde la gran mayoría de las transacciones registradas cumplen con las condiciones establecidas para ser consideradas conciliables.\n",
    "\n",
    "Estos resultados pueden tener implicaciones significativas en la eficacia de los procesos de registro y conciliación entre ambas bases. La diferencia en el porcentaje de transacciones conciliables entre CLAP y BANSUR podría sugerir que BANSUR está registrando una proporción mucho mayor de transacciones conciliables, lo que podría indicar una mayor precisión en su proceso de registro o conciliación.\n",
    "\n",
    "En general, estos hallazgos proporcionan una visión más clara de cómo se comparan las cifras de transacciones conciliables entre las fuentes y cómo estos porcentajes se alinean con los objetivos de conciliación y calidad de los datos en el contexto del negocio."
   ]
  },
  {
   "cell_type": "markdown",
   "metadata": {},
   "source": [
    "### Teniendo en cuenta los criterios de cruce entre ambas bases conciliables:\n",
    "1. Que tengan el mismo **ID** (ID_ADQUIRIENTE = ID_BANCO).\n",
    "2. Que tenga los mismos 6 primeros dígitos de la tarjeta (resuelvo al crear un campo adicional TARJETA EN conciliables_clap_df).\n",
    "3. Que tengan los mismos 4 últimos dígitos de la tarjeta.\n",
    "4. Que el valor pagado en la transacción sea igual o que su diferencia\n",
    "esté en el rango de más o menos 0.99 pesos.\n",
    "5. Que tengan la misma fecha de transacción.\n",
    "\n",
    "### Vamos a obtener un dataframe que contenga la información de CLAP y BANSUR con todas la transacciones que se cruzaron"
   ]
  },
  {
   "cell_type": "code",
   "execution_count": 41,
   "metadata": {},
   "outputs": [],
   "source": [
    "# Filtrar los registros donde TIPO_TRX es igual a \"PAGADA\"\n",
    "clap_df = clap_df[clap_df['TIPO_TRX'] == 'PAGADA']"
   ]
  },
  {
   "cell_type": "code",
   "execution_count": 42,
   "metadata": {},
   "outputs": [
    {
     "name": "stdout",
     "output_type": "stream",
     "text": [
      "147331\n"
     ]
    }
   ],
   "source": [
    "print(len(clap_df))"
   ]
  },
  {
   "cell_type": "code",
   "execution_count": 40,
   "metadata": {},
   "outputs": [],
   "source": [
    "# Filtrar los registros donde TIPO_TRX es igual a \"PAGO\"\n",
    "bansur_df = bansur_df[bansur_df['TIPO_TRX'] == 'PAGO']"
   ]
  },
  {
   "cell_type": "code",
   "execution_count": 39,
   "metadata": {},
   "outputs": [
    {
     "name": "stdout",
     "output_type": "stream",
     "text": [
      "132338\n"
     ]
    }
   ],
   "source": [
    "print(len(bansur_df))"
   ]
  },
  {
   "cell_type": "code",
   "execution_count": 17,
   "metadata": {},
   "outputs": [],
   "source": [
    "# Convertir columnas a tipos de datos compatibles\n",
    "clap_df['INICIO6_TARJETA'] = clap_df['INICIO6_TARJETA'].astype(int).astype(str)\n",
    "clap_df['FINAL4_TARJETA'] = clap_df['FINAL4_TARJETA'].astype(str)\n",
    "bansur_df['TARJETA'] = bansur_df['TARJETA'].astype(str)"
   ]
  },
  {
   "cell_type": "code",
   "execution_count": 18,
   "metadata": {},
   "outputs": [],
   "source": [
    "# Convertir 'ID_BANCO' a int64\n",
    "clap_df['ID_BANCO'] = clap_df['ID_BANCO'].astype('int64') "
   ]
  },
  {
   "cell_type": "code",
   "execution_count": 19,
   "metadata": {},
   "outputs": [
    {
     "name": "stdout",
     "output_type": "stream",
     "text": [
      "  INICIO6_TARJETA FINAL4_TARJETA TIPO_TRX   MONTO FECHA_TRANSACCION  \\\n",
      "1          802414           6615   PAGADA   42.51        2020-11-01   \n",
      "3          954015           5581   PAGADA   41.00        2020-11-01   \n",
      "4          954015           2538   PAGADA   68.00        2020-11-01   \n",
      "5          954015           2581   PAGADA  144.00        2020-11-01   \n",
      "6          818156           8094   PAGADA  189.50        2020-11-01   \n",
      "\n",
      "  CODIGO_AUTORIZACION      ID_BANCO FECHA_RECEPCION_BANCO  \n",
      "1              053042   29607730901            2020-11-02  \n",
      "3              013616  441622557487            2020-11-02  \n",
      "4              013602  266554946896            2020-11-02  \n",
      "5              013626  106967585923            2020-11-02  \n",
      "6              053064  890554602678            2020-11-02  \n"
     ]
    }
   ],
   "source": [
    "print(clap_df.head())"
   ]
  },
  {
   "cell_type": "code",
   "execution_count": 20,
   "metadata": {},
   "outputs": [
    {
     "name": "stdout",
     "output_type": "stream",
     "text": [
      "INICIO6_TARJETA           object\n",
      "FINAL4_TARJETA            object\n",
      "TIPO_TRX                  object\n",
      "MONTO                    float64\n",
      "FECHA_TRANSACCION         object\n",
      "CODIGO_AUTORIZACION       object\n",
      "ID_BANCO                   int64\n",
      "FECHA_RECEPCION_BANCO     object\n",
      "dtype: object\n"
     ]
    }
   ],
   "source": [
    "print(clap_df.dtypes)"
   ]
  },
  {
   "cell_type": "code",
   "execution_count": 21,
   "metadata": {},
   "outputs": [
    {
     "name": "stdout",
     "output_type": "stream",
     "text": [
      "      TARJETA TIPO_TRX   MONTO FECHA_TRANSACCION CODIGO_AUTORIZACION  \\\n",
      "0  9540150300     PAGO    44.0        2020-11-01              272012   \n",
      "1  9540150300     PAGO    93.0        2020-11-01              216149   \n",
      "2  9540150310     PAGO  1579.0        2020-11-01              898544   \n",
      "3  9540150319     PAGO    86.0        2020-11-01              501928   \n",
      "4  9540150314     PAGO   679.0        2020-11-01              170207   \n",
      "\n",
      "   ID_ADQUIRIENTE FECHA_RECEPCION  \n",
      "0    320720237226      2020-11-03  \n",
      "1    812801092295      2020-11-03  \n",
      "2    563080775636      2020-11-03  \n",
      "3    924685088703      2020-11-03  \n",
      "4     35452614774      2020-11-03  \n"
     ]
    }
   ],
   "source": [
    "print(bansur_df.head())"
   ]
  },
  {
   "cell_type": "code",
   "execution_count": 22,
   "metadata": {},
   "outputs": [
    {
     "name": "stdout",
     "output_type": "stream",
     "text": [
      "TARJETA                 object\n",
      "TIPO_TRX                object\n",
      "MONTO                  float64\n",
      "FECHA_TRANSACCION       object\n",
      "CODIGO_AUTORIZACION     object\n",
      "ID_ADQUIRIENTE           int64\n",
      "FECHA_RECEPCION         object\n",
      "dtype: object\n"
     ]
    }
   ],
   "source": [
    "print(bansur_df.dtypes)"
   ]
  },
  {
   "cell_type": "code",
   "execution_count": 23,
   "metadata": {},
   "outputs": [],
   "source": [
    "# Creo un nuevo campo TARJETA (INICIO6_TARJETA + FINAL4_TARJETA) en clap_df\n",
    "\n",
    "clap_df['TARJETA'] = clap_df['INICIO6_TARJETA'] + clap_df['FINAL4_TARJETA']"
   ]
  },
  {
   "cell_type": "code",
   "execution_count": 24,
   "metadata": {},
   "outputs": [
    {
     "name": "stdout",
     "output_type": "stream",
     "text": [
      "       INICIO6_TARJETA FINAL4_TARJETA TIPO_TRX    MONTO FECHA_TRANSACCION  \\\n",
      "1               802414           6615   PAGADA    42.51        2020-11-01   \n",
      "3               954015           5581   PAGADA    41.00        2020-11-01   \n",
      "4               954015           2538   PAGADA    68.00        2020-11-01   \n",
      "5               954015           2581   PAGADA   144.00        2020-11-01   \n",
      "6               818156           8094   PAGADA   189.50        2020-11-01   \n",
      "...                ...            ...      ...      ...               ...   \n",
      "163541          954015           4142   PAGADA   201.00        2020-11-01   \n",
      "163542          905158           9023   PAGADA  1067.00        2020-11-01   \n",
      "163543          922059           9467   PAGADA  2243.00        2020-11-01   \n",
      "163544          954015           9059   PAGADA   128.00        2020-11-01   \n",
      "163545          404826           5173   PAGADA   416.88        2020-11-01   \n",
      "\n",
      "       CODIGO_AUTORIZACION      ID_BANCO FECHA_RECEPCION_BANCO     TARJETA  \n",
      "1                   053042   29607730901            2020-11-02  8024146615  \n",
      "3                   013616  441622557487            2020-11-02  9540155581  \n",
      "4                   013602  266554946896            2020-11-02  9540152538  \n",
      "5                   013626  106967585923            2020-11-02  9540152581  \n",
      "6                   053064  890554602678            2020-11-02  8181568094  \n",
      "...                    ...           ...                   ...         ...  \n",
      "163541              896519  412816814986            2020-11-01  9540154142  \n",
      "163542              046888  319751266320            2020-11-01  9051589023  \n",
      "163543              896488  832422949173            2020-11-01  9220599467  \n",
      "163544              896499  517771792644            2020-11-01  9540159059  \n",
      "163545              002021  167215102698            2020-11-01  4048265173  \n",
      "\n",
      "[147331 rows x 9 columns]\n"
     ]
    }
   ],
   "source": [
    "print(clap_df)"
   ]
  },
  {
   "cell_type": "code",
   "execution_count": 25,
   "metadata": {},
   "outputs": [
    {
     "name": "stdout",
     "output_type": "stream",
     "text": [
      "           TARJETA TIPO_TRX    MONTO FECHA_TRANSACCION CODIGO_AUTORIZACION  \\\n",
      "0       9540150300     PAGO     44.0        2020-11-01              272012   \n",
      "1       9540150300     PAGO     93.0        2020-11-01              216149   \n",
      "2       9540150310     PAGO   1579.0        2020-11-01              898544   \n",
      "3       9540150319     PAGO     86.0        2020-11-01              501928   \n",
      "4       9540150314     PAGO    679.0        2020-11-01              170207   \n",
      "...            ...      ...      ...               ...                 ...   \n",
      "132391  4450167626     PAGO    350.0        2020-11-01              149593   \n",
      "132392  4427328952     PAGO   5000.0        2020-11-01              053891   \n",
      "132393  4427537641     PAGO   5000.0        2020-11-01              042185   \n",
      "132394  4461382609     PAGO  17500.0        2020-11-01              755434   \n",
      "132395  4461382609     PAGO  50000.0        2020-11-01              751564   \n",
      "\n",
      "        ID_ADQUIRIENTE FECHA_RECEPCION  \n",
      "0         320720237226      2020-11-03  \n",
      "1         812801092295      2020-11-03  \n",
      "2         563080775636      2020-11-03  \n",
      "3         924685088703      2020-11-03  \n",
      "4          35452614774      2020-11-03  \n",
      "...                ...             ...  \n",
      "132391    145930611467      2020-11-03  \n",
      "132392    102850313498      2020-11-03  \n",
      "132393    369250498576      2020-11-03  \n",
      "132394    187969661998      2020-11-03  \n",
      "132395    617192509002      2020-11-03  \n",
      "\n",
      "[132338 rows x 7 columns]\n"
     ]
    }
   ],
   "source": [
    "print(bansur_df)"
   ]
  },
  {
   "cell_type": "markdown",
   "metadata": {},
   "source": [
    " **Unir los dos DataFrames**    \n",
    " en función de los campos de identificación (ID_BANCO y ID_ADQUIRIENTE) utilizando el método merge() de pandas. Esto creará un nuevo DataFrame que contiene registros que tienen el mismo ID."
   ]
  },
  {
   "cell_type": "code",
   "execution_count": 26,
   "metadata": {},
   "outputs": [],
   "source": [
    "# Renombrar columna para que coincidan los nombres\n",
    "bansur_df.rename(columns={'ID_ADQUIRIENTE': 'ID_BANCO'}, inplace=True)"
   ]
  },
  {
   "cell_type": "code",
   "execution_count": 27,
   "metadata": {},
   "outputs": [],
   "source": [
    "merged_df = clap_df.merge(bansur_df, on='ID_BANCO', suffixes=('_clap', '_bansur'))"
   ]
  },
  {
   "cell_type": "markdown",
   "metadata": {},
   "source": [
    "Filtrado por Números de TARJETA"
   ]
  },
  {
   "cell_type": "code",
   "execution_count": 28,
   "metadata": {},
   "outputs": [],
   "source": [
    "merged_df = merged_df[merged_df['TARJETA_clap'] == merged_df['TARJETA_bansur']]"
   ]
  },
  {
   "cell_type": "markdown",
   "metadata": {},
   "source": [
    "Filtrado por Valor Pagado"
   ]
  },
  {
   "cell_type": "code",
   "execution_count": 29,
   "metadata": {},
   "outputs": [],
   "source": [
    "merged_df = merged_df[abs(merged_df['MONTO_clap'] - merged_df['MONTO_bansur']) <= 0.99]"
   ]
  },
  {
   "cell_type": "markdown",
   "metadata": {},
   "source": [
    "Filtrado por FECHA_TRANSACCION"
   ]
  },
  {
   "cell_type": "code",
   "execution_count": 30,
   "metadata": {},
   "outputs": [],
   "source": [
    "merged_df = merged_df[merged_df['FECHA_TRANSACCION_clap'] == merged_df['FECHA_TRANSACCION_bansur']]"
   ]
  },
  {
   "cell_type": "markdown",
   "metadata": {},
   "source": [
    "Resultados: "
   ]
  },
  {
   "cell_type": "code",
   "execution_count": 31,
   "metadata": {},
   "outputs": [
    {
     "name": "stdout",
     "output_type": "stream",
     "text": [
      "      INICIO6_TARJETA FINAL4_TARJETA TIPO_TRX_clap  MONTO_clap  \\\n",
      "1              954015           6530        PAGADA       130.0   \n",
      "2              497797           2844        PAGADA      2100.0   \n",
      "3              958758           1814        PAGADA       119.0   \n",
      "4              404826           6379        PAGADA       450.0   \n",
      "5              404826           7275        PAGADA        27.0   \n",
      "...               ...            ...           ...         ...   \n",
      "96351          975421           8273        PAGADA       128.0   \n",
      "96352          954015           4112        PAGADA       119.0   \n",
      "96353          954015           5624        PAGADA        70.0   \n",
      "96354          958758           5464        PAGADA        52.0   \n",
      "96356          908632           7560        PAGADA       138.0   \n",
      "\n",
      "      FECHA_TRANSACCION_clap CODIGO_AUTORIZACION_clap      ID_BANCO  \\\n",
      "1                 2020-11-01                   193429   41467739202   \n",
      "2                 2020-11-01                   127882   74878446381   \n",
      "3                 2020-11-01                   183237   42848711911   \n",
      "4                 2020-11-01                   024461  890542723340   \n",
      "5                 2020-11-01                   001419   91933813855   \n",
      "...                      ...                      ...           ...   \n",
      "96351             2020-11-01                   095718   48041005125   \n",
      "96352             2020-11-01                   039427  105988590132   \n",
      "96353             2020-11-01                   039528  891082986119   \n",
      "96354             2020-11-01                   200225  721455880700   \n",
      "96356             2020-11-01                   200254  842795672443   \n",
      "\n",
      "      FECHA_RECEPCION_BANCO TARJETA_clap TARJETA_bansur TIPO_TRX_bansur  \\\n",
      "1                2020-11-02   9540156530     9540156530            PAGO   \n",
      "2                2020-11-02   4977972844     4977972844            PAGO   \n",
      "3                2020-11-02   9587581814     9587581814            PAGO   \n",
      "4                2020-11-02   4048266379     4048266379            PAGO   \n",
      "5                2020-11-02   4048267275     4048267275            PAGO   \n",
      "...                     ...          ...            ...             ...   \n",
      "96351            2020-11-02   9754218273     9754218273            PAGO   \n",
      "96352            2020-11-02   9540154112     9540154112            PAGO   \n",
      "96353            2020-11-02   9540155624     9540155624            PAGO   \n",
      "96354            2020-11-02   9587585464     9587585464            PAGO   \n",
      "96356            2020-11-02   9086327560     9086327560            PAGO   \n",
      "\n",
      "       MONTO_bansur FECHA_TRANSACCION_bansur CODIGO_AUTORIZACION_bansur  \\\n",
      "1             130.0               2020-11-01                     193429   \n",
      "2            2100.0               2020-11-01                     127882   \n",
      "3             119.0               2020-11-01                     183237   \n",
      "4             450.0               2020-11-01                     024461   \n",
      "5              27.0               2020-11-01                     001419   \n",
      "...             ...                      ...                        ...   \n",
      "96351         128.0               2020-11-01                     095718   \n",
      "96352         119.0               2020-11-01                     039427   \n",
      "96353          70.0               2020-11-01                     039528   \n",
      "96354          52.0               2020-11-01                     200225   \n",
      "96356         138.0               2020-11-01                     200254   \n",
      "\n",
      "      FECHA_RECEPCION  \n",
      "1          2020-11-03  \n",
      "2          2020-11-03  \n",
      "3          2020-11-03  \n",
      "4          2020-11-03  \n",
      "5          2020-11-03  \n",
      "...               ...  \n",
      "96351      2020-11-03  \n",
      "96352      2020-11-03  \n",
      "96353      2020-11-03  \n",
      "96354      2020-11-03  \n",
      "96356      2020-11-03  \n",
      "\n",
      "[86796 rows x 15 columns]\n"
     ]
    }
   ],
   "source": [
    "print(merged_df)"
   ]
  },
  {
   "cell_type": "code",
   "execution_count": 32,
   "metadata": {},
   "outputs": [
    {
     "name": "stdout",
     "output_type": "stream",
     "text": [
      "Monto total de transacciones conciliables: 37066867.56999999\n",
      "Cantidad de transacciones conciliables: 86796\n"
     ]
    }
   ],
   "source": [
    "# Calcular el monto total de transacciones conciliables\n",
    "monto_total_conciliable = merged_df['MONTO_clap'].sum()\n",
    "\n",
    "# Calcular la cantidad de transacciones conciliables\n",
    "cantidad_transacciones_conciliables = len(merged_df)\n",
    "\n",
    "print(f\"Monto total de transacciones conciliables: {monto_total_conciliable}\")\n",
    "print(f\"Cantidad de transacciones conciliables: {cantidad_transacciones_conciliables}\")"
   ]
  },
  {
   "cell_type": "markdown",
   "metadata": {},
   "source": [
    "En el siguiente código, utilizo 'ID_BANCO' como base para identificar las transacciones en clap_df y bansur_df que no están en merged_df. Luego, creamos DataFrames separados para estas transacciones no cruzadas."
   ]
  },
  {
   "cell_type": "code",
   "execution_count": 46,
   "metadata": {},
   "outputs": [],
   "source": [
    "# Identificar los registros en clap_df que no están en merged_df\n",
    "no_cruzados_clap_df = clap_df[~clap_df.set_index(['ID_BANCO']).index.isin(merged_df.set_index(['ID_BANCO']).index)].copy()\n",
    "\n",
    "# Identificar los registros en bansur_df que no están en merged_df\n",
    "no_cruzados_bansur_df = bansur_df[~bansur_df.set_index(['ID_BANCO']).index.isin(merged_df.set_index(['ID_BANCO']).index)].copy()\n",
    "\n"
   ]
  },
  {
   "cell_type": "markdown",
   "metadata": {},
   "source": [
    "Así, obtenemos los DataFrames no_cruzados_clap_df y no_cruzados_bansur_df que contienen las transacciones que no cruzaron."
   ]
  },
  {
   "cell_type": "code",
   "execution_count": 47,
   "metadata": {},
   "outputs": [
    {
     "name": "stdout",
     "output_type": "stream",
     "text": [
      "60535\n"
     ]
    }
   ],
   "source": [
    "print(len(no_cruzados_clap_df))"
   ]
  },
  {
   "cell_type": "code",
   "execution_count": 50,
   "metadata": {},
   "outputs": [
    {
     "name": "stdout",
     "output_type": "stream",
     "text": [
      "       INICIO6_TARJETA FINAL4_TARJETA TIPO_TRX    MONTO FECHA_TRANSACCION  \\\n",
      "1               802414           6615   PAGADA    42.51        2020-11-01   \n",
      "3               954015           5581   PAGADA    41.00        2020-11-01   \n",
      "4               954015           2538   PAGADA    68.00        2020-11-01   \n",
      "5               954015           2581   PAGADA   144.00        2020-11-01   \n",
      "6               818156           8094   PAGADA   189.50        2020-11-01   \n",
      "...                ...            ...      ...      ...               ...   \n",
      "163541          954015           4142   PAGADA   201.00        2020-11-01   \n",
      "163542          905158           9023   PAGADA  1067.00        2020-11-01   \n",
      "163543          922059           9467   PAGADA  2243.00        2020-11-01   \n",
      "163544          954015           9059   PAGADA   128.00        2020-11-01   \n",
      "163545          404826           5173   PAGADA   416.88        2020-11-01   \n",
      "\n",
      "       CODIGO_AUTORIZACION      ID_BANCO FECHA_RECEPCION_BANCO     TARJETA  \n",
      "1                   053042   29607730901            2020-11-02  8024146615  \n",
      "3                   013616  441622557487            2020-11-02  9540155581  \n",
      "4                   013602  266554946896            2020-11-02  9540152538  \n",
      "5                   013626  106967585923            2020-11-02  9540152581  \n",
      "6                   053064  890554602678            2020-11-02  8181568094  \n",
      "...                    ...           ...                   ...         ...  \n",
      "163541              896519  412816814986            2020-11-01  9540154142  \n",
      "163542              046888  319751266320            2020-11-01  9051589023  \n",
      "163543              896488  832422949173            2020-11-01  9220599467  \n",
      "163544              896499  517771792644            2020-11-01  9540159059  \n",
      "163545              002021  167215102698            2020-11-01  4048265173  \n",
      "\n",
      "[60535 rows x 9 columns]\n"
     ]
    }
   ],
   "source": [
    "print(no_cruzados_clap_df)"
   ]
  },
  {
   "cell_type": "code",
   "execution_count": 48,
   "metadata": {},
   "outputs": [
    {
     "name": "stdout",
     "output_type": "stream",
     "text": [
      "45542\n"
     ]
    }
   ],
   "source": [
    "print(len(no_cruzados_bansur_df))"
   ]
  },
  {
   "cell_type": "code",
   "execution_count": 51,
   "metadata": {},
   "outputs": [
    {
     "name": "stdout",
     "output_type": "stream",
     "text": [
      "           TARJETA TIPO_TRX     MONTO FECHA_TRANSACCION CODIGO_AUTORIZACION  \\\n",
      "0       9540150300     PAGO     44.00        2020-11-01              272012   \n",
      "1       9540150300     PAGO     93.00        2020-11-01              216149   \n",
      "2       9540150310     PAGO   1579.00        2020-11-01              898544   \n",
      "3       9540150319     PAGO     86.00        2020-11-01              501928   \n",
      "4       9540150314     PAGO    679.00        2020-11-01              170207   \n",
      "...            ...      ...       ...               ...                 ...   \n",
      "132360  4923290301     PAGO    253.39        2020-11-01              463174   \n",
      "132367  9540151814     PAGO     75.00        2020-11-01              232583   \n",
      "132376  9853980067     PAGO    350.00        2020-11-01              020719   \n",
      "132380  9754881474     PAGO    350.00        2020-11-01              000076   \n",
      "132394  4461382609     PAGO  17500.00        2020-11-01              755434   \n",
      "\n",
      "            ID_BANCO FECHA_RECEPCION  \n",
      "0       320720237226      2020-11-03  \n",
      "1       812801092295      2020-11-03  \n",
      "2       563080775636      2020-11-03  \n",
      "3       924685088703      2020-11-03  \n",
      "4        35452614774      2020-11-03  \n",
      "...              ...             ...  \n",
      "132360  854761214092      2020-11-03  \n",
      "132367  285353040166      2020-11-03  \n",
      "132376  894765100959      2020-11-03  \n",
      "132380  500546499320      2020-11-03  \n",
      "132394  187969661998      2020-11-03  \n",
      "\n",
      "[45542 rows x 7 columns]\n"
     ]
    }
   ],
   "source": [
    "print(no_cruzados_bansur_df)"
   ]
  },
  {
   "cell_type": "markdown",
   "metadata": {},
   "source": [
    "### Porcentaje de transacciones de la base conciliable de CLAP que cruzó contra la liquidación de BANSUR"
   ]
  },
  {
   "cell_type": "code",
   "execution_count": 53,
   "metadata": {},
   "outputs": [
    {
     "name": "stdout",
     "output_type": "stream",
     "text": [
      "Porcentaje de transacciones cruzadas en CLAP: 58.91%\n",
      "Porcentaje de transacciones cruzadas en BANSUR: 65.59%\n"
     ]
    }
   ],
   "source": [
    "# Cálculos para CLAP\n",
    "total_conciliables_clap = len(clap_df)\n",
    "porcentaje_cruzadas_clap = (len(merged_df) / total_conciliables_clap) * 100\n",
    "\n",
    "# Cálculos para BANSUR\n",
    "total_conciliables_bansur = len(bansur_df)\n",
    "porcentaje_cruzadas_bansur = (len(merged_df) / total_conciliables_bansur) * 100\n",
    "\n",
    "print(f\"Porcentaje de transacciones cruzadas en CLAP: {porcentaje_cruzadas_clap:.2f}%\")\n",
    "print(f\"Porcentaje de transacciones cruzadas en BANSUR: {porcentaje_cruzadas_bansur:.2f}%\")"
   ]
  },
  {
   "cell_type": "markdown",
   "metadata": {},
   "source": [
    "### Porcentaje de transacciones de la base conciliable de BANSUR no cruzó contra la liquidación de CLAP."
   ]
  },
  {
   "cell_type": "code",
   "execution_count": 55,
   "metadata": {},
   "outputs": [
    {
     "name": "stdout",
     "output_type": "stream",
     "text": [
      "Porcentaje de transacciones No cruzadas en BANSUR: 34.41%\n",
      "Porcentaje de transacciones No cruzadas en CLAP: 41.09%\n"
     ]
    }
   ],
   "source": [
    "# Cálculos para BANSUR\n",
    "total_conciliables_bansur = len(bansur_df)\n",
    "porcentaje_no_cruzadas_bansur = (len(no_cruzados_bansur_df)  / total_conciliables_bansur) * 100\n",
    "\n",
    "# Cálculos para CLAP\n",
    "total_conciliables_clap = len(clap_df)\n",
    "porcentaje_no_cruzadas_clap = (len(no_cruzados_clap_df)  / total_conciliables_clap) * 100\n",
    "\n",
    "print(f\"Porcentaje de transacciones No cruzadas en BANSUR: {porcentaje_no_cruzadas_bansur:.2f}%\")\n",
    "print(f\"Porcentaje de transacciones No cruzadas en CLAP: {porcentaje_no_cruzadas_clap:.2f}%\")"
   ]
  },
  {
   "cell_type": "markdown",
   "metadata": {},
   "source": [
    "Gráficamente"
   ]
  },
  {
   "cell_type": "code",
   "execution_count": 56,
   "metadata": {},
   "outputs": [
    {
     "data": {
      "image/png": "[encoded data removed]",
      "text/plain": [
       "<Figure size 1200x600 with 2 Axes>"
      ]
     },
     "metadata": {},
     "output_type": "display_data"
    }
   ],
   "source": [
    "import matplotlib.pyplot as plt\n",
    "\n",
    "# Datos para el gráfico circular\n",
    "labels = ['Cruzaron', 'No Cruzaron']\n",
    "sizes_clap = [porcentaje_cruzadas_clap, 100 - porcentaje_cruzadas_clap]\n",
    "sizes_bansur = [100 - porcentaje_no_cruzadas_bansur, porcentaje_no_cruzadas_bansur]\n",
    "\n",
    "# Crear el gráfico circular\n",
    "fig, (ax1, ax2) = plt.subplots(1, 2, figsize=(12, 6))\n",
    "\n",
    "ax1.pie(sizes_clap, labels=labels, autopct='%1.1f%%', startangle=90)\n",
    "ax1.set_title('Porcentaje de Transacciones Conciliables de CLAP que Cruzaron')\n",
    "\n",
    "ax2.pie(sizes_bansur, labels=labels, autopct='%1.1f%%', startangle=90)\n",
    "ax2.set_title('Porcentaje de Transacciones Conciliables de BANSUR que no Cruzaron')\n",
    "\n",
    "plt.tight_layout()\n",
    "plt.show()\n"
   ]
  }
 ],
 "metadata": {
  "kernelspec": {
   "display_name": "venv",
   "language": "python",
   "name": "python3"
  },
  "language_info": {
   "codemirror_mode": {
    "name": "ipython",
    "version": 3
   },
   "file_extension": ".py",
   "mimetype": "text/x-python",
   "name": "python",
   "nbconvert_exporter": "python",
   "pygments_lexer": "ipython3",
   "version": "3.11.4"
  },
  "orig_nbformat": 4
 },
 "nbformat": 4,
 "nbformat_minor": 2
}
