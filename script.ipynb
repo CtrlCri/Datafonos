{
 "cells": [
  {
   "cell_type": "markdown",
   "metadata": {},
   "source": [
    "# Datafonos\n",
    "\n",
    "Uno de nuestros clientes, **CLAP**, maneja Datafonos y se encarga de procesar\n",
    "pagos. **SIMETRIK** es su aliado para comparar las transacciones que se\n",
    "reportan a través de sus dispositivos contra las\n",
    "transacciones que se registran en las liquidaciones\n",
    "bancarias (**BANSUR**).  \n",
    "Cada vez que el cliente **CLAP** reporta un pago con su\n",
    "datáfono envía un registro a su base de datos y a la base\n",
    "de datos del adquirente **BANSUR**. Sin embargo, dada la\n",
    "gran cantidad de pagos que se realizan a diario, **CLAP** no puede llevar un\n",
    "control efectivo de todas las transacciones realizadas y necesitan verificar\n",
    "que todas las transacciones registradas en su base de datos también se\n",
    "encuentren en la base de **BANSUR**."
   ]
  },
  {
   "cell_type": "markdown",
   "metadata": {},
   "source": [
    "*IMPORTANTE:* Una transacción regular se evidencia en la base de datos\n",
    "como un **PAGO**; se debe tener en cuenta que un *mismo ID* puede también\n",
    "tomar estado de **Cancelación**, **Chargeback** u **Otros casos**.  \n",
    "Simetrik considera una partida como conciliable toda aquella transacción\n",
    "cuyo último estado en la base de datos ordenada por fecha y hora sea\n",
    "PAGADA.  \n",
    "Para esto, **SIMETRIK** comparará para cada transacción campos únicos entre\n",
    "las dos entidades buscando encontrar parejas que sean exactamente\n",
    "iguales bajo las siguientes condiciones:  \n",
    "1. Que tengan el mismo **ID**.\n",
    "2. Que tenga los mismos 6 primeros dígitos de la tarjeta.\n",
    "3. Que tengan los mismos 4 últimos dígitos de la tarjeta.\n",
    "4. Que el valor pagado en la transacción sea igual o que su diferencia\n",
    "esté en el rango de más o menos 0.99 pesos.\n",
    "5. Que tengan la misma fecha de transacción."
   ]
  },
  {
   "cell_type": "code",
   "execution_count": 1,
   "metadata": {},
   "outputs": [],
   "source": [
    "import pandas as pd"
   ]
  },
  {
   "cell_type": "code",
   "execution_count": 3,
   "metadata": {},
   "outputs": [
    {
     "name": "stdout",
     "output_type": "stream",
     "text": [
      "           TARJETA TIPO_TRX    MONTO  FECHA_TRANSACCION CODIGO_AUTORIZACION  \\\n",
      "0       9540150300     PAGO     44.0           20201101              272012   \n",
      "1       9540150300     PAGO     93.0           20201101              216149   \n",
      "2       9540150310     PAGO   1579.0           20201101              898544   \n",
      "3       9540150319     PAGO     86.0           20201101              501928   \n",
      "4       9540150314     PAGO    679.0           20201101              170207   \n",
      "...            ...      ...      ...                ...                 ...   \n",
      "132391  4450167626     PAGO    350.0           20201101              149593   \n",
      "132392  4427328952     PAGO   5000.0           20201101              053891   \n",
      "132393  4427537641     PAGO   5000.0           20201101              042185   \n",
      "132394  4461382609     PAGO  17500.0           20201101              755434   \n",
      "132395  4461382609     PAGO  50000.0           20201101              751564   \n",
      "\n",
      "        ID_ADQUIRIENTE FECHA_RECEPCION  \n",
      "0         320720237226      2020-11-03  \n",
      "1         812801092295      2020-11-03  \n",
      "2         563080775636      2020-11-03  \n",
      "3         924685088703      2020-11-03  \n",
      "4          35452614774      2020-11-03  \n",
      "...                ...             ...  \n",
      "132391    145930611467      2020-11-03  \n",
      "132392    102850313498      2020-11-03  \n",
      "132393    369250498576      2020-11-03  \n",
      "132394    187969661998      2020-11-03  \n",
      "132395    617192509002      2020-11-03  \n",
      "\n",
      "[132396 rows x 7 columns]\n"
     ]
    }
   ],
   "source": [
    "bansur_data = pd.read_csv('data/bansur.csv')\n",
    "print(bansur_data)"
   ]
  },
  {
   "cell_type": "code",
   "execution_count": 4,
   "metadata": {},
   "outputs": [
    {
     "name": "stdout",
     "output_type": "stream",
     "text": [
      "        INICIO6_TARJETA  FINAL4_TARJETA   TIPO_TRX     MONTO  \\\n",
      "0              443715.0             190  CANCELADA  21944.00   \n",
      "1              802414.0            6615     PAGADA     42.51   \n",
      "2              818156.0             672  NO APLICA     20.80   \n",
      "3              954015.0            5581     PAGADA     41.00   \n",
      "4              954015.0            2538     PAGADA     68.00   \n",
      "...                 ...             ...        ...       ...   \n",
      "163544         954015.0            9059     PAGADA    128.00   \n",
      "163545         404826.0            5173     PAGADA    416.88   \n",
      "163546         928869.0            8072  CANCELADA     20.00   \n",
      "163547         922075.0            4913  CANCELADA    373.36   \n",
      "163548         954015.0            2015  CANCELADA    140.00   \n",
      "\n",
      "              FECHA_TRANSACCION CODIGO_AUTORIZACION      ID_BANCO  \\\n",
      "0       2020-11-01 07:50:25.000              136719  4.710019e+10   \n",
      "1       2020-11-01 04:35:04.000              053042  2.960773e+10   \n",
      "2       2020-11-01 04:35:04.000                 NaN  4.973632e+11   \n",
      "3       2020-11-01 04:35:06.000              013616  4.416226e+11   \n",
      "4       2020-11-01 04:35:06.000              013602  2.665549e+11   \n",
      "...                         ...                 ...           ...   \n",
      "163544  2020-11-01 03:59:55.000              896499  5.177718e+11   \n",
      "163545  2020-11-01 03:59:57.000              002021  1.672151e+11   \n",
      "163546  2020-11-01 05:08:38.000              008677  6.329542e+11   \n",
      "163547  2020-11-01 20:04:40.000              100994  7.785426e+11   \n",
      "163548  2020-11-01 23:36:21.000              865124  8.070402e+11   \n",
      "\n",
      "       FECHA_RECEPCION_BANCO  \n",
      "0                 2020-11-05  \n",
      "1                 2020-11-02  \n",
      "2                 2020-11-02  \n",
      "3                 2020-11-02  \n",
      "4                 2020-11-02  \n",
      "...                      ...  \n",
      "163544            2020-11-01  \n",
      "163545            2020-11-01  \n",
      "163546            2020-11-03  \n",
      "163547            2020-11-03  \n",
      "163548            2020-11-03  \n",
      "\n",
      "[163549 rows x 8 columns]\n"
     ]
    }
   ],
   "source": [
    "clap_data = pd.read_csv('data/clap.csv')\n",
    "print(clap_data)"
   ]
  }
 ],
 "metadata": {
  "kernelspec": {
   "display_name": "venv",
   "language": "python",
   "name": "python3"
  },
  "language_info": {
   "codemirror_mode": {
    "name": "ipython",
    "version": 3
   },
   "file_extension": ".py",
   "mimetype": "text/x-python",
   "name": "python",
   "nbconvert_exporter": "python",
   "pygments_lexer": "ipython3",
   "version": "3.11.4"
  },
  "orig_nbformat": 4
 },
 "nbformat": 4,
 "nbformat_minor": 2
}
