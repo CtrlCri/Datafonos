{
 "cells": [
  {
   "cell_type": "markdown",
   "metadata": {},
   "source": [
    "# Datafonos\n",
    "\n",
    "Uno de nuestros clientes, **CLAP**, maneja Datafonos y se encarga de procesar\n",
    "pagos. **SIMETRIK** es su aliado para comparar las transacciones que se\n",
    "reportan a través de sus dispositivos contra las\n",
    "transacciones que se registran en las liquidaciones\n",
    "bancarias (**BANSUR**).  \n",
    "Cada vez que el cliente **CLAP** reporta un pago con su\n",
    "datáfono envía un registro a su base de datos y a la base\n",
    "de datos del adquirente **BANSUR**. Sin embargo, dada la\n",
    "gran cantidad de pagos que se realizan a diario, **CLAP** no puede llevar un\n",
    "control efectivo de todas las transacciones realizadas y necesitan verificar\n",
    "que todas las transacciones registradas en su base de datos también se\n",
    "encuentren en la base de **BANSUR**."
   ]
  },
  {
   "cell_type": "markdown",
   "metadata": {},
   "source": [
    "*IMPORTANTE:* Una transacción regular se evidencia en la base de datos\n",
    "como un **PAGO**; se debe tener en cuenta que un *mismo ID* puede también\n",
    "tomar estado de **Cancelación**, **Chargeback** u **Otros casos**.  \n",
    "Simetrik considera una partida como conciliable toda aquella transacción\n",
    "cuyo último estado en la base de datos ordenada por fecha y hora sea\n",
    "PAGADA.  \n",
    "Para esto, **SIMETRIK** comparará para cada transacción campos únicos entre\n",
    "las dos entidades buscando encontrar parejas que sean exactamente\n",
    "iguales bajo las siguientes condiciones:  \n",
    "1. Que tengan el mismo **ID**.\n",
    "2. Que tenga los mismos 6 primeros dígitos de la tarjeta.\n",
    "3. Que tengan los mismos 4 últimos dígitos de la tarjeta.\n",
    "4. Que el valor pagado en la transacción sea igual o que su diferencia\n",
    "esté en el rango de más o menos 0.99 pesos.\n",
    "5. Que tengan la misma fecha de transacción."
   ]
  },
  {
   "cell_type": "markdown",
   "metadata": {},
   "source": [
    "###  Importo las bibliotecas necesarias:"
   ]
  },
  {
   "cell_type": "code",
   "execution_count": 247,
   "metadata": {},
   "outputs": [],
   "source": [
    "import pandas as pd\n",
    "import matplotlib.pyplot as plt\n",
    "import seaborn as sns"
   ]
  },
  {
   "cell_type": "markdown",
   "metadata": {},
   "source": [
    "### Cargo los datos de los archivos CSV en DataFrames de Pandas:"
   ]
  },
  {
   "cell_type": "code",
   "execution_count": 248,
   "metadata": {},
   "outputs": [],
   "source": [
    "clap_df = pd.read_csv('data/clap.csv')\n",
    "bansur_df = pd.read_csv('data/bansur.csv')"
   ]
  },
  {
   "cell_type": "code",
   "execution_count": 132,
   "metadata": {},
   "outputs": [
    {
     "name": "stdout",
     "output_type": "stream",
     "text": [
      "INICIO6_TARJETA          float64\n",
      "FINAL4_TARJETA             int64\n",
      "TIPO_TRX                  object\n",
      "MONTO                    float64\n",
      "FECHA_TRANSACCION         object\n",
      "CODIGO_AUTORIZACION       object\n",
      "ID_BANCO                 float64\n",
      "FECHA_RECEPCION_BANCO     object\n",
      "dtype: object\n"
     ]
    }
   ],
   "source": [
    "print(clap_df.dtypes)"
   ]
  },
  {
   "cell_type": "code",
   "execution_count": 133,
   "metadata": {},
   "outputs": [
    {
     "name": "stdout",
     "output_type": "stream",
     "text": [
      "TARJETA                  int64\n",
      "TIPO_TRX                object\n",
      "MONTO                  float64\n",
      "FECHA_TRANSACCION        int64\n",
      "CODIGO_AUTORIZACION     object\n",
      "ID_ADQUIRIENTE           int64\n",
      "FECHA_RECEPCION         object\n",
      "dtype: object\n"
     ]
    }
   ],
   "source": [
    "print(bansur_df.dtypes)"
   ]
  },
  {
   "cell_type": "code",
   "execution_count": 215,
   "metadata": {},
   "outputs": [
    {
     "name": "stdout",
     "output_type": "stream",
     "text": [
      "INICIO6_TARJETA              6\n",
      "FINAL4_TARJETA               0\n",
      "TIPO_TRX                     0\n",
      "MONTO                        0\n",
      "FECHA_TRANSACCION            0\n",
      "CODIGO_AUTORIZACION      12679\n",
      "ID_BANCO                    16\n",
      "FECHA_RECEPCION_BANCO        0\n",
      "dtype: int64\n",
      "TARJETA                0\n",
      "TIPO_TRX               0\n",
      "MONTO                  0\n",
      "FECHA_TRANSACCION      0\n",
      "CODIGO_AUTORIZACION    0\n",
      "ID_ADQUIRIENTE         0\n",
      "FECHA_RECEPCION        0\n",
      "dtype: int64\n"
     ]
    }
   ],
   "source": [
    "# Revisando datos faltantes\n",
    "print(clap_df.isna().sum())\n",
    "print(bansur_df.isna().sum())"
   ]
  },
  {
   "cell_type": "code",
   "execution_count": 249,
   "metadata": {},
   "outputs": [],
   "source": [
    "# Rellenar columnas \n",
    "clap_df['CODIGO_AUTORIZACION'] = clap_df['CODIGO_AUTORIZACION'].fillna(0)\n",
    "clap_df['INICIO6_TARJETA'] = clap_df['INICIO6_TARJETA'].fillna(0)\n",
    "clap_df['ID_BANCO'] = clap_df['ID_BANCO'].fillna(0)"
   ]
  },
  {
   "cell_type": "code",
   "execution_count": 250,
   "metadata": {},
   "outputs": [],
   "source": [
    "# Asegurarme que las fechas esten en el mismo formato\n",
    "\n",
    "# Convertir la columna 'FECHA_TRANSACCION' a objetos datetime.date\n",
    "bansur_df['FECHA_TRANSACCION'] = bansur_df['FECHA_TRANSACCION'].astype(str)\n",
    "bansur_df['FECHA_TRANSACCION'] = pd.to_datetime(bansur_df['FECHA_TRANSACCION'])\n",
    "bansur_df['FECHA_TRANSACCION'] = bansur_df['FECHA_TRANSACCION'].dt.date\n",
    "\n",
    "# Convertir la columna 'FECHA_RECEPCION' a objetos datetime.date\n",
    "bansur_df['FECHA_RECEPCION'] = pd.to_datetime(bansur_df['FECHA_RECEPCION']).dt.date\n",
    "\n",
    "# Convertir la columna 'FECHA_RECEPCION_BANCO' a objetos datetime.date\n",
    "clap_df['FECHA_RECEPCION_BANCO'] = pd.to_datetime(clap_df['FECHA_RECEPCION_BANCO']).dt.date\n",
    "\n",
    "# Convertir la columna 'FECHA_TRANSACCION' a objetos datetime.date\n",
    "clap_df['FECHA_TRANSACCION'] = pd.to_datetime(clap_df['FECHA_TRANSACCION']).dt.date\n"
   ]
  },
  {
   "cell_type": "code",
   "execution_count": 218,
   "metadata": {},
   "outputs": [
    {
     "name": "stdout",
     "output_type": "stream",
     "text": [
      "TARJETA                  int64\n",
      "TIPO_TRX                object\n",
      "MONTO                  float64\n",
      "FECHA_TRANSACCION       object\n",
      "CODIGO_AUTORIZACION     object\n",
      "ID_ADQUIRIENTE           int64\n",
      "FECHA_RECEPCION         object\n",
      "dtype: object\n"
     ]
    }
   ],
   "source": [
    "print(bansur_df.dtypes)"
   ]
  },
  {
   "cell_type": "markdown",
   "metadata": {},
   "source": [
    "### Conocer el monto y la cantidad de las transacciones que SIMETRIK considera como conciliables para la base de CLAP"
   ]
  },
  {
   "cell_type": "code",
   "execution_count": 251,
   "metadata": {},
   "outputs": [
    {
     "name": "stdout",
     "output_type": "stream",
     "text": [
      "              INICIO6_TARJETA  FINAL4_TARJETA TIPO_TRX   MONTO  \\\n",
      "ID_BANCO                                                         \n",
      "4.773069e+06         980026.0            1602   PAGADA   42.00   \n",
      "2.112159e+07         975421.0             826   PAGADA  105.00   \n",
      "2.457780e+07         438005.0            5599   PAGADA  200.00   \n",
      "3.673276e+07         491709.0            4331   PAGADA   70.00   \n",
      "5.965141e+07         954015.0            7478   PAGADA   32.00   \n",
      "...                       ...             ...      ...     ...   \n",
      "9.999651e+11         493694.0            4486   PAGADA  682.00   \n",
      "9.999714e+11         954015.0            9731   PAGADA   84.00   \n",
      "9.999788e+11         954015.0            6352   PAGADA  327.73   \n",
      "9.999842e+11         958758.0            8203   PAGADA  670.00   \n",
      "9.999857e+11         442732.0            6242   PAGADA   90.00   \n",
      "\n",
      "             FECHA_TRANSACCION CODIGO_AUTORIZACION FECHA_RECEPCION_BANCO  \n",
      "ID_BANCO                                                                  \n",
      "4.773069e+06        2020-11-01              006011            2020-11-01  \n",
      "2.112159e+07        2020-11-01              022255            2020-11-02  \n",
      "2.457780e+07        2020-11-01              679606            2020-11-02  \n",
      "3.673276e+07        2020-11-01              400266            2020-11-01  \n",
      "5.965141e+07        2020-11-01              840571            2020-11-01  \n",
      "...                        ...                 ...                   ...  \n",
      "9.999651e+11        2020-11-01              090085            2020-11-02  \n",
      "9.999714e+11        2020-11-01              862875            2020-11-01  \n",
      "9.999788e+11        2020-11-01              340128            2020-11-02  \n",
      "9.999842e+11        2020-11-01              168768            2020-11-02  \n",
      "9.999857e+11        2020-11-01              023341            2020-11-02  \n",
      "\n",
      "[147325 rows x 7 columns]\n"
     ]
    }
   ],
   "source": [
    "# Agrupar por ID_BANCO, ordenar y seleccionar el último registro en cada grupo\n",
    "last_transactions_clap = clap_df.sort_values('FECHA_RECEPCION_BANCO').groupby('ID_BANCO').last()\n",
    "\n",
    "# Filtrar solo las transacciones conciliables (TIPO_TRX == 'PAGADA')\n",
    "conciliable_transactions_clap = last_transactions_clap[last_transactions_clap['TIPO_TRX'] == 'PAGADA']\n",
    "\n",
    "print(conciliable_transactions_clap)\n"
   ]
  },
  {
   "cell_type": "code",
   "execution_count": 252,
   "metadata": {},
   "outputs": [
    {
     "name": "stdout",
     "output_type": "stream",
     "text": [
      "                   TARJETA TIPO_TRX   MONTO FECHA_TRANSACCION  \\\n",
      "ID_ADQUIRIENTE                                                  \n",
      "9557043         9540156063     PAGO   78.00        2020-11-01   \n",
      "15217079        8181563080     PAGO  383.00        2020-11-01   \n",
      "21121589        9754210826     PAGO  105.00        2020-11-01   \n",
      "24577796        4380055599     PAGO  200.00        2020-11-01   \n",
      "75704793        9587587428     PAGO   72.00        2020-11-01   \n",
      "...                    ...      ...     ...               ...   \n",
      "999954387488    4197086679     PAGO   50.00        2020-11-01   \n",
      "999954692032    9444559025     PAGO  434.00        2020-11-01   \n",
      "999978847887    9540156352     PAGO  327.73        2020-11-01   \n",
      "999985702247    4427326242     PAGO   90.00        2020-11-01   \n",
      "999986105343    9051589458     PAGO  529.90        2020-11-01   \n",
      "\n",
      "               CODIGO_AUTORIZACION FECHA_RECEPCION  \n",
      "ID_ADQUIRIENTE                                      \n",
      "9557043                     480918      2020-11-03  \n",
      "15217079                    833790      2020-11-03  \n",
      "21121589                    022255      2020-11-03  \n",
      "24577796                    679606      2020-11-03  \n",
      "75704793                    415908      2020-11-03  \n",
      "...                            ...             ...  \n",
      "999954387488                767131      2020-11-03  \n",
      "999954692032                765604      2020-11-03  \n",
      "999978847887                340128      2020-11-03  \n",
      "999985702247                023341      2020-11-03  \n",
      "999986105343                050271      2020-11-03  \n",
      "\n",
      "[132286 rows x 6 columns]\n"
     ]
    }
   ],
   "source": [
    "# Agrupar por ID_ADQUIRIENTE, ordenar y seleccionar el último registro en cada grupo\n",
    "last_transactions_bansur = bansur_df.sort_values('FECHA_RECEPCION').groupby('ID_ADQUIRIENTE').last()\n",
    "\n",
    "# Filtrar solo las transacciones conciliables (TIPO_TRX == 'PAGO')\n",
    "conciliable_transactions_bansur = last_transactions_bansur[last_transactions_bansur['TIPO_TRX'] == 'PAGO']\n",
    "\n",
    "print(conciliable_transactions_bansur)\n"
   ]
  },
  {
   "cell_type": "code",
   "execution_count": 253,
   "metadata": {},
   "outputs": [
    {
     "name": "stdout",
     "output_type": "stream",
     "text": [
      "Monto total de transacciones conciliables en CLAP: 61020742.05\n",
      "Cantidad de transacciones conciliables en CLAP: 147325\n"
     ]
    }
   ],
   "source": [
    "# Calcular el monto total de transacciones conciliables\n",
    "monto_total_conciliable_clap = conciliable_transactions_clap['MONTO'].sum()\n",
    "\n",
    "# Calcular la cantidad de transacciones conciliables\n",
    "cantidad_transacciones_conciliables_clap = len(conciliable_transactions_clap)\n",
    "\n",
    "print(f\"Monto total de transacciones conciliables en CLAP: {monto_total_conciliable_clap}\")\n",
    "print(f\"Cantidad de transacciones conciliables en CLAP: {cantidad_transacciones_conciliables_clap}\")"
   ]
  },
  {
   "cell_type": "markdown",
   "metadata": {},
   "source": [
    "### Monto y la cantidad de las transacciones que SIMETRIK considera como conciliables para la base de BANSUR\n"
   ]
  },
  {
   "cell_type": "code",
   "execution_count": 254,
   "metadata": {},
   "outputs": [
    {
     "name": "stdout",
     "output_type": "stream",
     "text": [
      "Monto total de transacciones conciliables en BANSUR: 53981054.07\n",
      "Cantidad de transacciones conciliables en BANSUR: 132286\n"
     ]
    }
   ],
   "source": [
    "# Calcular el monto total de transacciones conciliables\n",
    "monto_total_conciliable_bansur = conciliable_transactions_bansur['MONTO'].sum()\n",
    "\n",
    "# Calcular la cantidad de transacciones conciliables\n",
    "cantidad_transacciones_conciliables_bansur = len(conciliable_transactions_bansur)\n",
    "\n",
    "print(f\"Monto total de transacciones conciliables en BANSUR: {monto_total_conciliable_bansur}\")\n",
    "print(f\"Cantidad de transacciones conciliables en BANSUR: {cantidad_transacciones_conciliables_bansur}\")"
   ]
  },
  {
   "cell_type": "markdown",
   "metadata": {},
   "source": [
    "### ¿Cómo se comparan las cifras de los puntos anteriores respecto de las cifras totales en las fuentes desde un punto de vista del negocio?"
   ]
  },
  {
   "cell_type": "markdown",
   "metadata": {},
   "source": [
    "### Gráficamente"
   ]
  },
  {
   "cell_type": "code",
   "execution_count": 255,
   "metadata": {},
   "outputs": [
    {
     "data": {
      "image/png": "[encoded data removed]",
      "text/plain": [
       "<Figure size 1200x600 with 2 Axes>"
      ]
     },
     "metadata": {},
     "output_type": "display_data"
    }
   ],
   "source": [
    "# Cálculos para CLAP\n",
    "total_transacciones_clap = len(clap_df)\n",
    "porcentaje_conciliables_clap = (cantidad_transacciones_conciliables_clap / total_transacciones_clap) * 100\n",
    "\n",
    "# Cálculos para BANSUR\n",
    "total_transacciones_bansur = len(bansur_df)\n",
    "porcentaje_conciliables_bansur = (cantidad_transacciones_conciliables_bansur / total_transacciones_bansur) * 100\n",
    "\n",
    "\n",
    "# Crear una figura con dos subplots\n",
    "fig, axes = plt.subplots(1, 2, figsize=(12, 6))\n",
    "\n",
    "# Graficar el porcentaje de transacciones conciliables en CLAP\n",
    "sns.barplot(x=['Conciliables', 'No Conciliables'], y=[porcentaje_conciliables_clap, 100 - porcentaje_conciliables_clap], ax=axes[0])\n",
    "axes[0].set_title('Porcentaje de Transacciones Conciliables en CLAP')\n",
    "axes[0].set_ylabel('Porcentaje')\n",
    "\n",
    "# Graficar el porcentaje de transacciones conciliables en BANSUR\n",
    "sns.barplot(x=['Conciliables', 'No Conciliables'], y=[porcentaje_conciliables_bansur, 100 - porcentaje_conciliables_bansur], ax=axes[1])\n",
    "axes[1].set_title('Porcentaje de Transacciones Conciliables en BANSUR')\n",
    "axes[1].set_ylabel('Porcentaje')\n",
    "\n",
    "plt.tight_layout()\n",
    "plt.show()"
   ]
  },
  {
   "cell_type": "code",
   "execution_count": 256,
   "metadata": {},
   "outputs": [
    {
     "name": "stdout",
     "output_type": "stream",
     "text": [
      "Total transacciones en CLAP: 163549\n",
      "Total transacciones en BANSUR: 132396\n",
      "Cantidad transacciones conciliables en CLAP: 147325\n",
      "Cantidad transacciones conciliables en BANSUR: 132286\n",
      "Porcentaje de transacciones conciliables en CLAP: 90.08%\n",
      "Porcentaje de transacciones conciliables en BANSUR: 99.92%\n"
     ]
    }
   ],
   "source": [
    "print(f\"Total transacciones en CLAP: {total_transacciones_clap}\")\n",
    "print(f\"Total transacciones en BANSUR: {total_transacciones_bansur}\")\n",
    "\n",
    "print(f\"Cantidad transacciones conciliables en CLAP: {cantidad_transacciones_conciliables_clap}\")\n",
    "print(f\"Cantidad transacciones conciliables en BANSUR: {cantidad_transacciones_conciliables_bansur}\")\n",
    "\n",
    "print(f\"Porcentaje de transacciones conciliables en CLAP: {porcentaje_conciliables_clap:.2f}%\")\n",
    "print(f\"Porcentaje de transacciones conciliables en BANSUR: {porcentaje_conciliables_bansur:.2f}%\")"
   ]
  },
  {
   "cell_type": "markdown",
   "metadata": {},
   "source": [
    "Desde un punto de vista del negocio, al comparar las cifras de los puntos anteriores con las cifras totales en las fuentes, podemos obtener información valiosa sobre el proceso de conciliación entre CLAP y BANSUR. Es importante resaltar que una transacción regular en las bases de datos se refleja como un PAGO, considerando también la posibilidad de que un mismo ID pueda tener diferentes estados como Cancelación, Chargeback u Otros casos.\n",
    "\n",
    "En el análisis realizado, hemos identificado que:\n",
    "\n",
    "En la base de CLAP, el 90.08% de las transacciones son consideradas como conciliables, es decir, cumplen con las condiciones de comparación establecidas. Esto significa que la mayoría de las transacciones registradas por CLAP se ajustan a las condiciones requeridas para considerarse correctamente conciliadas con BANSUR.\n",
    "\n",
    "Por otro lado, en la base de BANSUR, el 99.96% de las transacciones son consideradas como conciliables. Esto indica un alto grado de conciliación en BANSUR, donde la gran mayoría de las transacciones registradas cumplen con las condiciones establecidas para ser consideradas conciliables.\n",
    "\n",
    "Estos resultados pueden tener implicaciones significativas en la eficacia de los procesos de registro y conciliación entre ambas bases. La diferencia en el porcentaje de transacciones conciliables entre CLAP y BANSUR podría sugerir que BANSUR está registrando una proporción mucho mayor de transacciones conciliables, lo que podría indicar una mayor precisión en su proceso de registro o conciliación.\n",
    "\n",
    "En general, estos hallazgos proporcionan una visión más clara de cómo se comparan las cifras de transacciones conciliables entre las fuentes y cómo estos porcentajes se alinean con los objetivos de conciliación y calidad de los datos en el contexto del negocio."
   ]
  },
  {
   "cell_type": "markdown",
   "metadata": {},
   "source": [
    "### Teniendo en cuenta los criterios de cruce entre ambas bases conciliables:\n",
    "1. Que tengan el mismo **ID** (ID_ADQUIRIENTE = ID_BANCO).\n",
    "2. Que tenga los mismos 6 primeros dígitos de la tarjeta (resuelvo al crear un campo adicional TARJETA EN conciliables_clap_df).\n",
    "3. Que tengan los mismos 4 últimos dígitos de la tarjeta.\n",
    "4. Que el valor pagado en la transacción sea igual o que su diferencia\n",
    "esté en el rango de más o menos 0.99 pesos.\n",
    "5. Que tengan la misma fecha de transacción.\n",
    "\n",
    "### Vamos a obtener un dataframe que contenga la información de CLAP y BANSUR con todas la transacciones que se cruzaron"
   ]
  },
  {
   "cell_type": "code",
   "execution_count": 257,
   "metadata": {},
   "outputs": [],
   "source": [
    "# Filtrar los registros donde TIPO_TRX es igual a \"PAGADA\"\n",
    "last_txs_clap = clap_df.sort_values('FECHA_RECEPCION_BANCO').groupby('ID_BANCO').last().reset_index()\n",
    "\n",
    "# Filtrar solo las transacciones conciliables (TIPO_TRX == 'PAGADA')\n",
    "clap_df = last_txs_clap[last_txs_clap['TIPO_TRX'] == 'PAGADA']"
   ]
  },
  {
   "cell_type": "code",
   "execution_count": 258,
   "metadata": {},
   "outputs": [
    {
     "name": "stdout",
     "output_type": "stream",
     "text": [
      "147325\n"
     ]
    }
   ],
   "source": [
    "print(len(clap_df))"
   ]
  },
  {
   "cell_type": "code",
   "execution_count": 259,
   "metadata": {},
   "outputs": [],
   "source": [
    "# Filtrar los registros donde TIPO_TRX es igual a \"PAGO\"\n",
    "bansur_df = bansur_df.sort_values('FECHA_RECEPCION').groupby('ID_ADQUIRIENTE').last().reset_index()\n",
    "\n",
    "# Filtrar solo las transacciones conciliables (TIPO_TRX == 'PAGO')\n",
    "bansur_df = bansur_df[bansur_df['TIPO_TRX'] == 'PAGO']"
   ]
  },
  {
   "cell_type": "code",
   "execution_count": 260,
   "metadata": {},
   "outputs": [
    {
     "name": "stdout",
     "output_type": "stream",
     "text": [
      "132286\n"
     ]
    }
   ],
   "source": [
    "print(len(bansur_df))"
   ]
  },
  {
   "cell_type": "code",
   "execution_count": 261,
   "metadata": {},
   "outputs": [],
   "source": [
    "# Convertir columnas a tipos de datos compatibles\n",
    "clap_df.loc[:, 'INICIO6_TARJETA'] = clap_df['INICIO6_TARJETA'].astype(int).astype(str)\n",
    "clap_df.loc[:, 'FINAL4_TARJETA'] = clap_df['FINAL4_TARJETA'].astype(str)\n",
    "bansur_df.loc[:, 'TARJETA'] = bansur_df['TARJETA'].astype(str)\n"
   ]
  },
  {
   "cell_type": "code",
   "execution_count": 274,
   "metadata": {},
   "outputs": [],
   "source": [
    "# Convertir 'ID_BANCO' a int64 para que sean compatibles\n",
    "clap_df.loc[:,'ID_BANCO'] = clap_df['ID_BANCO'].astype('int64')"
   ]
  },
  {
   "cell_type": "code",
   "execution_count": 275,
   "metadata": {},
   "outputs": [
    {
     "name": "stdout",
     "output_type": "stream",
     "text": [
      "ID_BANCO                   int64\n",
      "INICIO6_TARJETA           object\n",
      "FINAL4_TARJETA            object\n",
      "TIPO_TRX                  object\n",
      "MONTO                    float64\n",
      "FECHA_TRANSACCION         object\n",
      "CODIGO_AUTORIZACION       object\n",
      "FECHA_RECEPCION_BANCO     object\n",
      "dtype: object\n"
     ]
    }
   ],
   "source": [
    "print(clap_df.dtypes)"
   ]
  },
  {
   "cell_type": "code",
   "execution_count": 276,
   "metadata": {},
   "outputs": [
    {
     "name": "stdout",
     "output_type": "stream",
     "text": [
      "ID_ADQUIRIENTE           int64\n",
      "TARJETA                 object\n",
      "TIPO_TRX                object\n",
      "MONTO                  float64\n",
      "FECHA_TRANSACCION       object\n",
      "CODIGO_AUTORIZACION     object\n",
      "FECHA_RECEPCION         object\n",
      "dtype: object\n"
     ]
    }
   ],
   "source": [
    "print(bansur_df.dtypes)"
   ]
  },
  {
   "cell_type": "code",
   "execution_count": 279,
   "metadata": {},
   "outputs": [],
   "source": [
    "# Creo un nuevo campo TARJETA (INICIO6_TARJETA + FINAL4_TARJETA) en clap_df\n",
    "\n",
    "clap_df.loc[:,'TARJETA'] = clap_df['INICIO6_TARJETA'] + clap_df['FINAL4_TARJETA']"
   ]
  },
  {
   "cell_type": "code",
   "execution_count": 280,
   "metadata": {},
   "outputs": [
    {
     "name": "stdout",
     "output_type": "stream",
     "text": [
      "            ID_BANCO INICIO6_TARJETA FINAL4_TARJETA TIPO_TRX   MONTO  \\\n",
      "1            4773069          980026           1602   PAGADA   42.00   \n",
      "3           21121589          975421            826   PAGADA  105.00   \n",
      "4           24577796          438005           5599   PAGADA  200.00   \n",
      "5           36732762          491709           4331   PAGADA   70.00   \n",
      "6           59651406          954015           7478   PAGADA   32.00   \n",
      "...              ...             ...            ...      ...     ...   \n",
      "163517  999965140301          493694           4486   PAGADA  682.00   \n",
      "163518  999971419321          954015           9731   PAGADA   84.00   \n",
      "163519  999978847887          954015           6352   PAGADA  327.73   \n",
      "163520  999984231660          958758           8203   PAGADA  670.00   \n",
      "163521  999985702247          442732           6242   PAGADA   90.00   \n",
      "\n",
      "       FECHA_TRANSACCION CODIGO_AUTORIZACION FECHA_RECEPCION_BANCO     TARJETA  \n",
      "1             2020-11-01              006011            2020-11-01  9800261602  \n",
      "3             2020-11-01              022255            2020-11-02   975421826  \n",
      "4             2020-11-01              679606            2020-11-02  4380055599  \n",
      "5             2020-11-01              400266            2020-11-01  4917094331  \n",
      "6             2020-11-01              840571            2020-11-01  9540157478  \n",
      "...                  ...                 ...                   ...         ...  \n",
      "163517        2020-11-01              090085            2020-11-02  4936944486  \n",
      "163518        2020-11-01              862875            2020-11-01  9540159731  \n",
      "163519        2020-11-01              340128            2020-11-02  9540156352  \n",
      "163520        2020-11-01              168768            2020-11-02  9587588203  \n",
      "163521        2020-11-01              023341            2020-11-02  4427326242  \n",
      "\n",
      "[147325 rows x 9 columns]\n"
     ]
    }
   ],
   "source": [
    "print(clap_df)"
   ]
  },
  {
   "cell_type": "code",
   "execution_count": 281,
   "metadata": {},
   "outputs": [
    {
     "name": "stdout",
     "output_type": "stream",
     "text": [
      "        ID_ADQUIRIENTE     TARJETA TIPO_TRX   MONTO FECHA_TRANSACCION  \\\n",
      "0              9557043  9540156063     PAGO   78.00        2020-11-01   \n",
      "1             15217079  8181563080     PAGO  383.00        2020-11-01   \n",
      "2             21121589  9754210826     PAGO  105.00        2020-11-01   \n",
      "3             24577796  4380055599     PAGO  200.00        2020-11-01   \n",
      "4             75704793  9587587428     PAGO   72.00        2020-11-01   \n",
      "...                ...         ...      ...     ...               ...   \n",
      "132334    999954387488  4197086679     PAGO   50.00        2020-11-01   \n",
      "132335    999954692032  9444559025     PAGO  434.00        2020-11-01   \n",
      "132336    999978847887  9540156352     PAGO  327.73        2020-11-01   \n",
      "132337    999985702247  4427326242     PAGO   90.00        2020-11-01   \n",
      "132338    999986105343  9051589458     PAGO  529.90        2020-11-01   \n",
      "\n",
      "       CODIGO_AUTORIZACION FECHA_RECEPCION  \n",
      "0                   480918      2020-11-03  \n",
      "1                   833790      2020-11-03  \n",
      "2                   022255      2020-11-03  \n",
      "3                   679606      2020-11-03  \n",
      "4                   415908      2020-11-03  \n",
      "...                    ...             ...  \n",
      "132334              767131      2020-11-03  \n",
      "132335              765604      2020-11-03  \n",
      "132336              340128      2020-11-03  \n",
      "132337              023341      2020-11-03  \n",
      "132338              050271      2020-11-03  \n",
      "\n",
      "[132286 rows x 7 columns]\n"
     ]
    }
   ],
   "source": [
    "print(bansur_df)"
   ]
  },
  {
   "cell_type": "markdown",
   "metadata": {},
   "source": [
    " **Unir los dos DataFrames**    \n",
    " en función de los campos de identificación (ID_BANCO y ID_ADQUIRIENTE) utilizando el método merge() de pandas. Esto creará un nuevo DataFrame que contiene registros que tienen el mismo ID."
   ]
  },
  {
   "cell_type": "code",
   "execution_count": 282,
   "metadata": {},
   "outputs": [],
   "source": [
    "# Renombrar columna para que coincidan los nombres\n",
    "bansur_df.rename(columns={'ID_ADQUIRIENTE': 'ID_BANCO'}, inplace=True)"
   ]
  },
  {
   "cell_type": "code",
   "execution_count": 283,
   "metadata": {},
   "outputs": [],
   "source": [
    "merged_df = clap_df.merge(bansur_df, on='ID_BANCO', suffixes=('_clap', '_bansur'))"
   ]
  },
  {
   "cell_type": "markdown",
   "metadata": {},
   "source": [
    "Filtrado por Números de TARJETA"
   ]
  },
  {
   "cell_type": "code",
   "execution_count": 284,
   "metadata": {},
   "outputs": [],
   "source": [
    "merged_df = merged_df[merged_df['TARJETA_clap'] == merged_df['TARJETA_bansur']]"
   ]
  },
  {
   "cell_type": "markdown",
   "metadata": {},
   "source": [
    "Filtrado por Valor Pagado"
   ]
  },
  {
   "cell_type": "code",
   "execution_count": 285,
   "metadata": {},
   "outputs": [],
   "source": [
    "merged_df = merged_df[abs(merged_df['MONTO_clap'] - merged_df['MONTO_bansur']) <= 0.99]"
   ]
  },
  {
   "cell_type": "markdown",
   "metadata": {},
   "source": [
    "Filtrado por FECHA_TRANSACCION"
   ]
  },
  {
   "cell_type": "code",
   "execution_count": 286,
   "metadata": {},
   "outputs": [],
   "source": [
    "merged_df = merged_df[merged_df['FECHA_TRANSACCION_clap'] == merged_df['FECHA_TRANSACCION_bansur']]"
   ]
  },
  {
   "cell_type": "markdown",
   "metadata": {},
   "source": [
    "Resultados: "
   ]
  },
  {
   "cell_type": "code",
   "execution_count": 287,
   "metadata": {},
   "outputs": [
    {
     "name": "stdout",
     "output_type": "stream",
     "text": [
      "           ID_BANCO INICIO6_TARJETA FINAL4_TARJETA TIPO_TRX_clap  MONTO_clap  \\\n",
      "1          24577796          438005           5599        PAGADA      200.00   \n",
      "2          75704793          958758           7428        PAGADA       72.00   \n",
      "3          85344962          954015           9031        PAGADA      920.00   \n",
      "4          86639380          954015           9163        PAGADA      258.00   \n",
      "5          93381495          905189           1387        PAGADA       59.20   \n",
      "...             ...             ...            ...           ...         ...   \n",
      "96349  999952081439          404826           4070        PAGADA      290.00   \n",
      "96350  999954387488          419708           6679        PAGADA       50.00   \n",
      "96351  999954692032          944455           9025        PAGADA      434.00   \n",
      "96352  999978847887          954015           6352        PAGADA      327.73   \n",
      "96353  999985702247          442732           6242        PAGADA       90.00   \n",
      "\n",
      "      FECHA_TRANSACCION_clap CODIGO_AUTORIZACION_clap FECHA_RECEPCION_BANCO  \\\n",
      "1                 2020-11-01                   679606            2020-11-02   \n",
      "2                 2020-11-01                   415908            2020-11-02   \n",
      "3                 2020-11-01                   205374            2020-11-02   \n",
      "4                 2020-11-01                   268993            2020-11-02   \n",
      "5                 2020-11-01                   002002            2020-11-02   \n",
      "...                      ...                      ...                   ...   \n",
      "96349             2020-11-01                   017974            2020-11-02   \n",
      "96350             2020-11-01                   767131            2020-11-02   \n",
      "96351             2020-11-01                   765604            2020-11-02   \n",
      "96352             2020-11-01                   340128            2020-11-02   \n",
      "96353             2020-11-01                   023341            2020-11-02   \n",
      "\n",
      "      TARJETA_clap TARJETA_bansur TIPO_TRX_bansur  MONTO_bansur  \\\n",
      "1       4380055599     4380055599            PAGO        200.00   \n",
      "2       9587587428     9587587428            PAGO         72.00   \n",
      "3       9540159031     9540159031            PAGO        920.00   \n",
      "4       9540159163     9540159163            PAGO        258.00   \n",
      "5       9051891387     9051891387            PAGO         59.20   \n",
      "...            ...            ...             ...           ...   \n",
      "96349   4048264070     4048264070            PAGO        290.00   \n",
      "96350   4197086679     4197086679            PAGO         50.00   \n",
      "96351   9444559025     9444559025            PAGO        434.00   \n",
      "96352   9540156352     9540156352            PAGO        327.73   \n",
      "96353   4427326242     4427326242            PAGO         90.00   \n",
      "\n",
      "      FECHA_TRANSACCION_bansur CODIGO_AUTORIZACION_bansur FECHA_RECEPCION  \n",
      "1                   2020-11-01                     679606      2020-11-03  \n",
      "2                   2020-11-01                     415908      2020-11-03  \n",
      "3                   2020-11-01                     205374      2020-11-03  \n",
      "4                   2020-11-01                     268993      2020-11-03  \n",
      "5                   2020-11-01                     002002      2020-11-03  \n",
      "...                        ...                        ...             ...  \n",
      "96349               2020-11-01                     017974      2020-11-03  \n",
      "96350               2020-11-01                     767131      2020-11-03  \n",
      "96351               2020-11-01                     765604      2020-11-03  \n",
      "96352               2020-11-01                     340128      2020-11-03  \n",
      "96353               2020-11-01                     023341      2020-11-03  \n",
      "\n",
      "[86794 rows x 15 columns]\n"
     ]
    }
   ],
   "source": [
    "print(merged_df)"
   ]
  },
  {
   "cell_type": "code",
   "execution_count": 288,
   "metadata": {},
   "outputs": [
    {
     "name": "stdout",
     "output_type": "stream",
     "text": [
      "Monto total de transacciones conciliables: 37066354.20999999\n",
      "Cantidad de transacciones conciliables: 86794\n"
     ]
    }
   ],
   "source": [
    "# Calcular el monto total de transacciones conciliables\n",
    "monto_total_conciliable = merged_df['MONTO_clap'].sum()\n",
    "\n",
    "# Calcular la cantidad de transacciones conciliables\n",
    "cantidad_transacciones_conciliables = len(merged_df)\n",
    "\n",
    "print(f\"Monto total de transacciones conciliables: {monto_total_conciliable}\")\n",
    "print(f\"Cantidad de transacciones conciliables: {cantidad_transacciones_conciliables}\")"
   ]
  },
  {
   "cell_type": "markdown",
   "metadata": {},
   "source": [
    "En el siguiente código, utilizo 'ID_BANCO' como base para identificar las transacciones en clap_df y bansur_df que no están en merged_df. Luego, creamos DataFrames separados para estas transacciones no cruzadas."
   ]
  },
  {
   "cell_type": "code",
   "execution_count": 289,
   "metadata": {},
   "outputs": [],
   "source": [
    "# Identificar los registros en clap_df que no están en merged_df\n",
    "no_cruzados_clap_df = clap_df[~clap_df.set_index(['ID_BANCO']).index.isin(merged_df.set_index(['ID_BANCO']).index)].copy()\n",
    "\n",
    "# Identificar los registros en bansur_df que no están en merged_df\n",
    "no_cruzados_bansur_df = bansur_df[~bansur_df.set_index(['ID_BANCO']).index.isin(merged_df.set_index(['ID_BANCO']).index)].copy()\n",
    "\n"
   ]
  },
  {
   "cell_type": "markdown",
   "metadata": {},
   "source": [
    "Así, obtenemos los DataFrames no_cruzados_clap_df y no_cruzados_bansur_df que contienen las transacciones que no cruzaron."
   ]
  },
  {
   "cell_type": "code",
   "execution_count": 290,
   "metadata": {},
   "outputs": [
    {
     "name": "stdout",
     "output_type": "stream",
     "text": [
      "60531\n"
     ]
    }
   ],
   "source": [
    "print(len(no_cruzados_clap_df))"
   ]
  },
  {
   "cell_type": "code",
   "execution_count": 291,
   "metadata": {},
   "outputs": [
    {
     "name": "stdout",
     "output_type": "stream",
     "text": [
      "            ID_BANCO INICIO6_TARJETA FINAL4_TARJETA TIPO_TRX  MONTO  \\\n",
      "1            4773069          980026           1602   PAGADA   42.0   \n",
      "3           21121589          975421            826   PAGADA  105.0   \n",
      "5           36732762          491709           4331   PAGADA   70.0   \n",
      "6           59651406          954015           7478   PAGADA   32.0   \n",
      "12          94642975          497516            309   PAGADA  250.0   \n",
      "...              ...             ...            ...      ...    ...   \n",
      "163510  999926932807          905158           9174   PAGADA  755.0   \n",
      "163516  999962612960          442753           8200   PAGADA    9.0   \n",
      "163517  999965140301          493694           4486   PAGADA  682.0   \n",
      "163518  999971419321          954015           9731   PAGADA   84.0   \n",
      "163520  999984231660          958758           8203   PAGADA  670.0   \n",
      "\n",
      "       FECHA_TRANSACCION CODIGO_AUTORIZACION FECHA_RECEPCION_BANCO     TARJETA  \n",
      "1             2020-11-01              006011            2020-11-01  9800261602  \n",
      "3             2020-11-01              022255            2020-11-02   975421826  \n",
      "5             2020-11-01              400266            2020-11-01  4917094331  \n",
      "6             2020-11-01              840571            2020-11-01  9540157478  \n",
      "12            2020-11-01              573454            2020-11-02   497516309  \n",
      "...                  ...                 ...                   ...         ...  \n",
      "163510        2020-11-01              047616            2020-11-02  9051589174  \n",
      "163516        2020-11-01              013505            2020-11-01  4427538200  \n",
      "163517        2020-11-01              090085            2020-11-02  4936944486  \n",
      "163518        2020-11-01              862875            2020-11-01  9540159731  \n",
      "163520        2020-11-01              168768            2020-11-02  9587588203  \n",
      "\n",
      "[60531 rows x 9 columns]\n"
     ]
    }
   ],
   "source": [
    "print(no_cruzados_clap_df)"
   ]
  },
  {
   "cell_type": "code",
   "execution_count": 292,
   "metadata": {},
   "outputs": [
    {
     "name": "stdout",
     "output_type": "stream",
     "text": [
      "45492\n"
     ]
    }
   ],
   "source": [
    "print(len(no_cruzados_bansur_df))"
   ]
  },
  {
   "cell_type": "code",
   "execution_count": 294,
   "metadata": {},
   "outputs": [
    {
     "name": "stdout",
     "output_type": "stream",
     "text": [
      "            ID_BANCO     TARJETA TIPO_TRX  MONTO FECHA_TRANSACCION  \\\n",
      "0            9557043  9540156063     PAGO   78.0        2020-11-01   \n",
      "1           15217079  8181563080     PAGO  383.0        2020-11-01   \n",
      "2           21121589  9754210826     PAGO  105.0        2020-11-01   \n",
      "5           82886938  9540150940     PAGO   91.0        2020-11-01   \n",
      "8           91996610  9051587309     PAGO   45.0        2020-11-01   \n",
      "...              ...         ...      ...    ...               ...   \n",
      "132320  999817260415  8181560116     PAGO   35.0        2020-11-01   \n",
      "132321  999830360521  9592030932     PAGO  279.0        2020-11-01   \n",
      "132324  999862438735  9220537797     PAGO  367.5        2020-11-01   \n",
      "132326  999872048524  9220750490     PAGO  474.0        2020-11-01   \n",
      "132338  999986105343  9051589458     PAGO  529.9        2020-11-01   \n",
      "\n",
      "       CODIGO_AUTORIZACION FECHA_RECEPCION  \n",
      "0                   480918      2020-11-03  \n",
      "1                   833790      2020-11-03  \n",
      "2                   022255      2020-11-03  \n",
      "5                   105785      2020-11-03  \n",
      "8                   045196      2020-11-03  \n",
      "...                    ...             ...  \n",
      "132320              430119      2020-11-03  \n",
      "132321              09748I      2020-11-03  \n",
      "132324              085397      2020-11-03  \n",
      "132326              288432      2020-11-03  \n",
      "132338              050271      2020-11-03  \n",
      "\n",
      "[45492 rows x 7 columns]\n"
     ]
    }
   ],
   "source": [
    "print(no_cruzados_bansur_df)"
   ]
  },
  {
   "cell_type": "markdown",
   "metadata": {},
   "source": [
    "### Porcentaje de transacciones de la base conciliable de CLAP que cruzó contra la liquidación de BANSUR"
   ]
  },
  {
   "cell_type": "code",
   "execution_count": 296,
   "metadata": {},
   "outputs": [
    {
     "name": "stdout",
     "output_type": "stream",
     "text": [
      "Porcentaje de transacciones cruzadas en CLAP: 58.91%\n",
      "Porcentaje de transacciones cruzadas en BANSUR: 65.61%\n"
     ]
    }
   ],
   "source": [
    "# Cálculos para CLAP\n",
    "total_conciliables_clap = len(clap_df)\n",
    "porcentaje_cruzadas_clap = (len(merged_df) / total_conciliables_clap) * 100\n",
    "\n",
    "# Cálculos para BANSUR\n",
    "total_conciliables_bansur = len(bansur_df)\n",
    "porcentaje_cruzadas_bansur = (len(merged_df) / total_conciliables_bansur) * 100\n",
    "\n",
    "print(f\"Porcentaje de transacciones cruzadas en CLAP: {porcentaje_cruzadas_clap:.2f}%\")\n",
    "print(f\"Porcentaje de transacciones cruzadas en BANSUR: {porcentaje_cruzadas_bansur:.2f}%\")"
   ]
  },
  {
   "cell_type": "markdown",
   "metadata": {},
   "source": [
    "### Porcentaje de transacciones de la base conciliable de BANSUR no cruzó contra la liquidación de CLAP."
   ]
  },
  {
   "cell_type": "code",
   "execution_count": 297,
   "metadata": {},
   "outputs": [
    {
     "name": "stdout",
     "output_type": "stream",
     "text": [
      "Porcentaje de transacciones No cruzadas en BANSUR: 34.39%\n",
      "Porcentaje de transacciones No cruzadas en CLAP: 41.09%\n"
     ]
    }
   ],
   "source": [
    "# Cálculos para BANSUR\n",
    "total_conciliables_bansur = len(bansur_df)\n",
    "porcentaje_no_cruzadas_bansur = (len(no_cruzados_bansur_df)  / total_conciliables_bansur) * 100\n",
    "\n",
    "# Cálculos para CLAP\n",
    "total_conciliables_clap = len(clap_df)\n",
    "porcentaje_no_cruzadas_clap = (len(no_cruzados_clap_df)  / total_conciliables_clap) * 100\n",
    "\n",
    "print(f\"Porcentaje de transacciones No cruzadas en BANSUR: {porcentaje_no_cruzadas_bansur:.2f}%\")\n",
    "print(f\"Porcentaje de transacciones No cruzadas en CLAP: {porcentaje_no_cruzadas_clap:.2f}%\")"
   ]
  },
  {
   "cell_type": "markdown",
   "metadata": {},
   "source": [
    "Gráficamente"
   ]
  },
  {
   "cell_type": "code",
   "execution_count": 298,
   "metadata": {},
   "outputs": [
    {
     "data": {
      "image/png": "[encoded data removed]",
      "text/plain": [
       "<Figure size 1200x600 with 2 Axes>"
      ]
     },
     "metadata": {},
     "output_type": "display_data"
    }
   ],
   "source": [
    "import matplotlib.pyplot as plt\n",
    "\n",
    "# Datos para el gráfico circular\n",
    "labels = ['Cruzaron', 'No Cruzaron']\n",
    "sizes_clap = [porcentaje_cruzadas_clap, 100 - porcentaje_cruzadas_clap]\n",
    "sizes_bansur = [100 - porcentaje_no_cruzadas_bansur, porcentaje_no_cruzadas_bansur]\n",
    "\n",
    "# Crear el gráfico circular\n",
    "fig, (ax1, ax2) = plt.subplots(1, 2, figsize=(12, 6))\n",
    "\n",
    "ax1.pie(sizes_clap, labels=labels, autopct='%1.1f%%', startangle=90)\n",
    "ax1.set_title('Porcentaje de Transacciones Conciliables de CLAP que Cruzaron')\n",
    "\n",
    "ax2.pie(sizes_bansur, labels=labels, autopct='%1.1f%%', startangle=90)\n",
    "ax2.set_title('Porcentaje de Transacciones Conciliables de BANSUR que no Cruzaron')\n",
    "\n",
    "plt.tight_layout()\n",
    "plt.show()\n"
   ]
  }
 ],
 "metadata": {
  "kernelspec": {
   "display_name": "venv",
   "language": "python",
   "name": "python3"
  },
  "language_info": {
   "codemirror_mode": {
    "name": "ipython",
    "version": 3
   },
   "file_extension": ".py",
   "mimetype": "text/x-python",
   "name": "python",
   "nbconvert_exporter": "python",
   "pygments_lexer": "ipython3",
   "version": "3.11.4"
  },
  "orig_nbformat": 4
 },
 "nbformat": 4,
 "nbformat_minor": 2
}
